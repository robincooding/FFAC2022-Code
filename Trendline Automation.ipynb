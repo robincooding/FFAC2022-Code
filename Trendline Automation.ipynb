{
 "cells": [
  {
   "cell_type": "code",
   "execution_count": 1,
   "id": "3c972ffe",
   "metadata": {},
   "outputs": [],
   "source": [
    "import pandas as pd\n",
    "import numpy as np\n",
    "import time\n",
    "import datetime\n",
    "import matplotlib.pyplot as plt\n",
    "import hdbscan\n",
    "from sklearn.preprocessing import StandardScaler, RobustScaler\n",
    "import matplotlib\n",
    "matplotlib.rcParams['font.family'] ='Malgun Gothic'\n",
    "matplotlib.rcParams['axes.unicode_minus'] =False # 한글 폰트를 위함"
   ]
  },
  {
   "cell_type": "markdown",
   "id": "49cdca3a",
   "metadata": {},
   "source": [
    "## 상장기업 데이터프레임 만들기 (코드, 이름)"
   ]
  },
  {
   "cell_type": "code",
   "execution_count": 2,
   "id": "3e14aab9",
   "metadata": {},
   "outputs": [],
   "source": [
    "def read_krx_code():\n",
    "        \"\"\"KRX로부터 상장기업 목록 파일을 읽어와서 데이터프레임으로 반환\"\"\"\n",
    "        url = 'http://kind.krx.co.kr/corpgeneral/corpList.do?method='\\\n",
    "            'download&searchType=13'\n",
    "        krx = pd.read_html(url, header=0)[0]\n",
    "        krx = krx[['종목코드', '회사명']]\n",
    "        krx = krx.rename(columns={'종목코드': 'code', '회사명': 'company'})\n",
    "        krx.code = krx.code.map('{:06d}'.format)\n",
    "        return krx"
   ]
  },
  {
   "cell_type": "code",
   "execution_count": 3,
   "id": "0fa8e530",
   "metadata": {},
   "outputs": [
    {
     "data": {
      "text/html": [
       "<div>\n",
       "<style scoped>\n",
       "    .dataframe tbody tr th:only-of-type {\n",
       "        vertical-align: middle;\n",
       "    }\n",
       "\n",
       "    .dataframe tbody tr th {\n",
       "        vertical-align: top;\n",
       "    }\n",
       "\n",
       "    .dataframe thead th {\n",
       "        text-align: right;\n",
       "    }\n",
       "</style>\n",
       "<table border=\"1\" class=\"dataframe\">\n",
       "  <thead>\n",
       "    <tr style=\"text-align: right;\">\n",
       "      <th></th>\n",
       "      <th>code</th>\n",
       "      <th>company</th>\n",
       "    </tr>\n",
       "  </thead>\n",
       "  <tbody>\n",
       "    <tr>\n",
       "      <th>0</th>\n",
       "      <td>000210</td>\n",
       "      <td>DL</td>\n",
       "    </tr>\n",
       "    <tr>\n",
       "      <th>1</th>\n",
       "      <td>004840</td>\n",
       "      <td>DRB동일</td>\n",
       "    </tr>\n",
       "    <tr>\n",
       "      <th>2</th>\n",
       "      <td>155660</td>\n",
       "      <td>DSR</td>\n",
       "    </tr>\n",
       "    <tr>\n",
       "      <th>3</th>\n",
       "      <td>078930</td>\n",
       "      <td>GS</td>\n",
       "    </tr>\n",
       "    <tr>\n",
       "      <th>4</th>\n",
       "      <td>294870</td>\n",
       "      <td>HDC현대산업개발</td>\n",
       "    </tr>\n",
       "    <tr>\n",
       "      <th>...</th>\n",
       "      <td>...</td>\n",
       "      <td>...</td>\n",
       "    </tr>\n",
       "    <tr>\n",
       "      <th>2508</th>\n",
       "      <td>169670</td>\n",
       "      <td>코스텍시스템</td>\n",
       "    </tr>\n",
       "    <tr>\n",
       "      <th>2509</th>\n",
       "      <td>318660</td>\n",
       "      <td>타임기술</td>\n",
       "    </tr>\n",
       "    <tr>\n",
       "      <th>2510</th>\n",
       "      <td>222670</td>\n",
       "      <td>플럼라인생명과학</td>\n",
       "    </tr>\n",
       "    <tr>\n",
       "      <th>2511</th>\n",
       "      <td>331660</td>\n",
       "      <td>한국미라클피플사</td>\n",
       "    </tr>\n",
       "    <tr>\n",
       "      <th>2512</th>\n",
       "      <td>212310</td>\n",
       "      <td>휴벡셀</td>\n",
       "    </tr>\n",
       "  </tbody>\n",
       "</table>\n",
       "<p>2513 rows × 2 columns</p>\n",
       "</div>"
      ],
      "text/plain": [
       "        code    company\n",
       "0     000210         DL\n",
       "1     004840      DRB동일\n",
       "2     155660        DSR\n",
       "3     078930         GS\n",
       "4     294870  HDC현대산업개발\n",
       "...      ...        ...\n",
       "2508  169670     코스텍시스템\n",
       "2509  318660       타임기술\n",
       "2510  222670   플럼라인생명과학\n",
       "2511  331660   한국미라클피플사\n",
       "2512  212310        휴벡셀\n",
       "\n",
       "[2513 rows x 2 columns]"
      ]
     },
     "execution_count": 3,
     "metadata": {},
     "output_type": "execute_result"
    }
   ],
   "source": [
    "code_df = read_krx_code()\n",
    "code_df"
   ]
  },
  {
   "cell_type": "markdown",
   "id": "7dbba50a",
   "metadata": {},
   "source": [
    "## 네이버 금융에서 시세 읽어오는 함수 만들기"
   ]
  },
  {
   "cell_type": "code",
   "execution_count": 4,
   "id": "e427b7fb",
   "metadata": {},
   "outputs": [],
   "source": [
    "from bs4 import BeautifulSoup\n",
    "import requests\n",
    "\n",
    "def read_naver(code, company):\n",
    "        \"\"\"네이버에서 주식 시세를 읽어서 데이터프레임으로 반환\"\"\"\n",
    "        try:\n",
    "            url = f\"http://finance.naver.com/item/sise_day.nhn?code={code}\"\n",
    "            html = BeautifulSoup(requests.get(url,\n",
    "                headers={'User-agent': 'Mozilla/5.0'}).text, \"lxml\")\n",
    "            pgrr = html.find(\"td\", class_=\"pgRR\")\n",
    "            if pgrr is None:\n",
    "                return None\n",
    "            s = str(pgrr.a[\"href\"]).split('=')\n",
    "            lastpage = s[-1] \n",
    "            df = pd.DataFrame()\n",
    "            for page in range(1, int(lastpage) + 1):\n",
    "                pg_url = '{}&page={}'.format(url, page)\n",
    "                df = pd.concat([df, pd.read_html(requests.get(pg_url,\n",
    "                    headers={'User-agent': 'Mozilla/5.0'}).text)[0]])                                          \n",
    "            df = df.rename(columns={'날짜':'date','종가':'close','시가':'open','고가':'high',\n",
    "                                    '저가':'low','거래량':'volume'})\n",
    "            df['date'] = df['date'].replace('.', '-')\n",
    "            df['date'] = pd.to_datetime(df['date'], format = '%Y-%m-%d', errors = 'raise')\n",
    "            df = df.dropna()\n",
    "            df[['close', 'open', 'high', 'low', 'volume']] = df[['close', 'open', 'high', 'low', 'volume']].astype(int)\n",
    "            df = df[['date', 'open', 'high', 'low', 'close', 'volume']]\n",
    "            df.set_index('date', inplace = True)\n",
    "        except Exception as e:\n",
    "            print('Exception occured :', str(e))\n",
    "            return None\n",
    "        return df"
   ]
  },
  {
   "cell_type": "markdown",
   "id": "a949b787",
   "metadata": {},
   "source": [
    " "
   ]
  },
  {
   "cell_type": "markdown",
   "id": "29727a74",
   "metadata": {},
   "source": [
    "## 사용자 입력 받기"
   ]
  },
  {
   "cell_type": "code",
   "execution_count": 5,
   "id": "fdade85e",
   "metadata": {},
   "outputs": [
    {
     "name": "stdout",
     "output_type": "stream",
     "text": [
      "조회할 종목을 입력하세요: SK하이닉스\n"
     ]
    }
   ],
   "source": [
    "company_name = input(\"조회할 종목을 입력하세요: \") # 문제 : 정확한 종목명을 입력받지 못했을 때 인식할 방법"
   ]
  },
  {
   "cell_type": "markdown",
   "id": "ab53e06c",
   "metadata": {},
   "source": [
    "**입력받은 종목의 코드를 반환하는 작업**"
   ]
  },
  {
   "cell_type": "code",
   "execution_count": 6,
   "id": "964cf1f1",
   "metadata": {},
   "outputs": [
    {
     "data": {
      "text/plain": [
       "'000660'"
      ]
     },
     "execution_count": 6,
     "metadata": {},
     "output_type": "execute_result"
    }
   ],
   "source": [
    "code = code_df.loc[code_df[\"company\"] == company_name].code.values[0]\n",
    "code"
   ]
  },
  {
   "cell_type": "markdown",
   "id": "acb368ed",
   "metadata": {},
   "source": [
    "**사용자가 입력한 종목에 대한 시세 데이터를 받아와 데이터프레임으로 변환**"
   ]
  },
  {
   "cell_type": "code",
   "execution_count": 7,
   "id": "e2ce5940",
   "metadata": {},
   "outputs": [
    {
     "data": {
      "text/html": [
       "<div>\n",
       "<style scoped>\n",
       "    .dataframe tbody tr th:only-of-type {\n",
       "        vertical-align: middle;\n",
       "    }\n",
       "\n",
       "    .dataframe tbody tr th {\n",
       "        vertical-align: top;\n",
       "    }\n",
       "\n",
       "    .dataframe thead th {\n",
       "        text-align: right;\n",
       "    }\n",
       "</style>\n",
       "<table border=\"1\" class=\"dataframe\">\n",
       "  <thead>\n",
       "    <tr style=\"text-align: right;\">\n",
       "      <th></th>\n",
       "      <th>open</th>\n",
       "      <th>high</th>\n",
       "      <th>low</th>\n",
       "      <th>close</th>\n",
       "      <th>volume</th>\n",
       "    </tr>\n",
       "    <tr>\n",
       "      <th>date</th>\n",
       "      <th></th>\n",
       "      <th></th>\n",
       "      <th></th>\n",
       "      <th></th>\n",
       "      <th></th>\n",
       "    </tr>\n",
       "  </thead>\n",
       "  <tbody>\n",
       "    <tr>\n",
       "      <th>2022-07-27</th>\n",
       "      <td>101000</td>\n",
       "      <td>101500</td>\n",
       "      <td>98600</td>\n",
       "      <td>100000</td>\n",
       "      <td>3141718</td>\n",
       "    </tr>\n",
       "    <tr>\n",
       "      <th>2022-07-26</th>\n",
       "      <td>100500</td>\n",
       "      <td>101000</td>\n",
       "      <td>99100</td>\n",
       "      <td>100500</td>\n",
       "      <td>1636970</td>\n",
       "    </tr>\n",
       "    <tr>\n",
       "      <th>2022-07-25</th>\n",
       "      <td>99100</td>\n",
       "      <td>101500</td>\n",
       "      <td>98900</td>\n",
       "      <td>100000</td>\n",
       "      <td>2185108</td>\n",
       "    </tr>\n",
       "    <tr>\n",
       "      <th>2022-07-22</th>\n",
       "      <td>102500</td>\n",
       "      <td>102500</td>\n",
       "      <td>100000</td>\n",
       "      <td>100000</td>\n",
       "      <td>3126556</td>\n",
       "    </tr>\n",
       "    <tr>\n",
       "      <th>2022-07-21</th>\n",
       "      <td>102000</td>\n",
       "      <td>103000</td>\n",
       "      <td>100500</td>\n",
       "      <td>102500</td>\n",
       "      <td>2143984</td>\n",
       "    </tr>\n",
       "    <tr>\n",
       "      <th>...</th>\n",
       "      <td>...</td>\n",
       "      <td>...</td>\n",
       "      <td>...</td>\n",
       "      <td>...</td>\n",
       "      <td>...</td>\n",
       "    </tr>\n",
       "    <tr>\n",
       "      <th>1997-01-06</th>\n",
       "      <td>20000</td>\n",
       "      <td>20000</td>\n",
       "      <td>20000</td>\n",
       "      <td>20000</td>\n",
       "      <td>436190</td>\n",
       "    </tr>\n",
       "    <tr>\n",
       "      <th>1997-01-04</th>\n",
       "      <td>20000</td>\n",
       "      <td>20000</td>\n",
       "      <td>20000</td>\n",
       "      <td>20000</td>\n",
       "      <td>277690</td>\n",
       "    </tr>\n",
       "    <tr>\n",
       "      <th>1997-01-03</th>\n",
       "      <td>20000</td>\n",
       "      <td>20100</td>\n",
       "      <td>20000</td>\n",
       "      <td>20000</td>\n",
       "      <td>145680</td>\n",
       "    </tr>\n",
       "    <tr>\n",
       "      <th>1996-12-27</th>\n",
       "      <td>23000</td>\n",
       "      <td>23000</td>\n",
       "      <td>23000</td>\n",
       "      <td>23000</td>\n",
       "      <td>0</td>\n",
       "    </tr>\n",
       "    <tr>\n",
       "      <th>1996-12-26</th>\n",
       "      <td>23000</td>\n",
       "      <td>23000</td>\n",
       "      <td>23000</td>\n",
       "      <td>23000</td>\n",
       "      <td>0</td>\n",
       "    </tr>\n",
       "  </tbody>\n",
       "</table>\n",
       "<p>6400 rows × 5 columns</p>\n",
       "</div>"
      ],
      "text/plain": [
       "              open    high     low   close   volume\n",
       "date                                               \n",
       "2022-07-27  101000  101500   98600  100000  3141718\n",
       "2022-07-26  100500  101000   99100  100500  1636970\n",
       "2022-07-25   99100  101500   98900  100000  2185108\n",
       "2022-07-22  102500  102500  100000  100000  3126556\n",
       "2022-07-21  102000  103000  100500  102500  2143984\n",
       "...            ...     ...     ...     ...      ...\n",
       "1997-01-06   20000   20000   20000   20000   436190\n",
       "1997-01-04   20000   20000   20000   20000   277690\n",
       "1997-01-03   20000   20100   20000   20000   145680\n",
       "1996-12-27   23000   23000   23000   23000        0\n",
       "1996-12-26   23000   23000   23000   23000        0\n",
       "\n",
       "[6400 rows x 5 columns]"
      ]
     },
     "execution_count": 7,
     "metadata": {},
     "output_type": "execute_result"
    }
   ],
   "source": [
    "df = read_naver(code, company_name)\n",
    "df"
   ]
  },
  {
   "cell_type": "code",
   "execution_count": 8,
   "id": "0d20dfb3",
   "metadata": {},
   "outputs": [
    {
     "name": "stdout",
     "output_type": "stream",
     "text": [
      "<class 'pandas.core.frame.DataFrame'>\n",
      "DatetimeIndex: 6400 entries, 2022-07-27 to 1996-12-26\n",
      "Data columns (total 5 columns):\n",
      " #   Column  Non-Null Count  Dtype\n",
      "---  ------  --------------  -----\n",
      " 0   open    6400 non-null   int64\n",
      " 1   high    6400 non-null   int64\n",
      " 2   low     6400 non-null   int64\n",
      " 3   close   6400 non-null   int64\n",
      " 4   volume  6400 non-null   int64\n",
      "dtypes: int64(5)\n",
      "memory usage: 300.0 KB\n"
     ]
    }
   ],
   "source": [
    "df.info()"
   ]
  },
  {
   "cell_type": "markdown",
   "id": "f3c94010",
   "metadata": {},
   "source": [
    " "
   ]
  },
  {
   "cell_type": "markdown",
   "id": "883305f8",
   "metadata": {},
   "source": [
    "## 데이터 프레임에서 추세선에 필요한 부분만 처리해주기"
   ]
  },
  {
   "cell_type": "code",
   "execution_count": 9,
   "id": "a0a5e504",
   "metadata": {},
   "outputs": [
    {
     "data": {
      "text/html": [
       "        <script type=\"text/javascript\">\n",
       "        window.PlotlyConfig = {MathJaxConfig: 'local'};\n",
       "        if (window.MathJax) {MathJax.Hub.Config({SVG: {font: \"STIX-Web\"}});}\n",
       "        if (typeof require !== 'undefined') {\n",
       "        require.undef(\"plotly\");\n",
       "        requirejs.config({\n",
       "            paths: {\n",
       "                'plotly': ['https://cdn.plot.ly/plotly-2.9.0.min']\n",
       "            }\n",
       "        });\n",
       "        require(['plotly'], function(Plotly) {\n",
       "            window._Plotly = Plotly;\n",
       "        });\n",
       "        }\n",
       "        </script>\n",
       "        "
      ]
     },
     "metadata": {},
     "output_type": "display_data"
    }
   ],
   "source": [
    "import cufflinks as cf\n",
    "from dateutil.relativedelta import relativedelta # 최근 n개월 필터링위함"
   ]
  },
  {
   "cell_type": "code",
   "execution_count": 10,
   "id": "d35084ca",
   "metadata": {},
   "outputs": [
    {
     "data": {
      "text/plain": [
       "datetime.date(2022, 7, 27)"
      ]
     },
     "execution_count": 10,
     "metadata": {},
     "output_type": "execute_result"
    }
   ],
   "source": [
    "df.index[0].date() # 가장 최근 날짜"
   ]
  },
  {
   "cell_type": "code",
   "execution_count": 11,
   "id": "dcf608ae",
   "metadata": {},
   "outputs": [],
   "source": [
    "# 최근 7개월 간의 데이터만 뽑아내기 위해 기준점 설정 - 인덱스와 비교하기 위해 datetime 형식으로 변환\n",
    "start = pd.to_datetime(df.index[0].date() + relativedelta(months = -7))\n",
    "df = df.loc[df.index > start]\n",
    "\n",
    "qf = cf.QuantFig(df)"
   ]
  },
  {
   "cell_type": "markdown",
   "id": "f6f6d7ed",
   "metadata": {},
   "source": [
    "**반응형 차트로 그냥 한번 그려보기^^**"
   ]
  },
  {
   "cell_type": "code",
   "execution_count": 12,
   "id": "d763c63f",
   "metadata": {
    "scrolled": false
   },
   "outputs": [
    {
     "data": {
      "application/vnd.plotly.v1+json": {
       "config": {
        "linkText": "Export to plot.ly",
        "plotlyServerURL": "https://plot.ly",
        "showLink": true
       },
       "data": [
        {
         "close": [
          100000,
          100500,
          100000,
          100000,
          102500,
          102000,
          100000,
          101000,
          98700,
          94000,
          94000,
          93300,
          93700,
          94800,
          93900,
          92100,
          92500,
          89100,
          87500,
          91000,
          94000,
          95300,
          95000,
          91600,
          90200,
          92200,
          95200,
          94500,
          96400,
          97400,
          97900,
          99100,
          99000,
          103500,
          105500,
          106000,
          104000,
          107000,
          107000,
          108000,
          107000,
          106000,
          103000,
          108000,
          108500,
          113000,
          112500,
          111000,
          113500,
          112500,
          110500,
          112500,
          109000,
          110500,
          110000,
          107500,
          107500,
          109500,
          110000,
          110500,
          112500,
          109500,
          108500,
          111000,
          108000,
          110500,
          113000,
          112500,
          112500,
          109000,
          108000,
          110000,
          113000,
          111000,
          111500,
          112000,
          113500,
          113000,
          116500,
          117000,
          116000,
          118000,
          121000,
          120000,
          118000,
          118000,
          120500,
          123500,
          123500,
          122000,
          124000,
          124000,
          116500,
          112500,
          116000,
          117000,
          120000,
          118000,
          119500,
          124500,
          129000,
          125000,
          123500,
          123000,
          122500,
          128500,
          128500,
          130000,
          131500,
          133000,
          130500,
          127000,
          132500,
          132000,
          129500,
          126000,
          125000,
          123000,
          124500,
          124000,
          120500,
          113500,
          117500,
          118000,
          119000,
          119000,
          125000,
          127000,
          126500,
          127000,
          128500,
          129500,
          128500,
          128000,
          124500,
          127000,
          125000,
          125500,
          128500,
          128500,
          131000,
          127000,
          127500
         ],
         "decreasing": {
          "line": {
           "color": "#808080"
          }
         },
         "high": [
          101500,
          101000,
          101500,
          102500,
          103000,
          104500,
          100500,
          103500,
          99000,
          95500,
          96400,
          94000,
          95700,
          96500,
          95200,
          93600,
          93400,
          89600,
          92500,
          93100,
          94900,
          95300,
          96100,
          92000,
          93000,
          95700,
          95900,
          96800,
          96400,
          101500,
          98900,
          99600,
          101000,
          104500,
          107000,
          107500,
          106000,
          108500,
          107500,
          108000,
          108000,
          107000,
          108500,
          110000,
          112000,
          113500,
          113000,
          112500,
          115000,
          113000,
          114000,
          112500,
          111500,
          112500,
          111000,
          109000,
          108500,
          111000,
          112000,
          111500,
          112500,
          110000,
          109500,
          111000,
          109500,
          112000,
          115000,
          113000,
          112500,
          109500,
          108500,
          113000,
          113000,
          113000,
          113000,
          114000,
          114500,
          115500,
          118000,
          117500,
          117500,
          120000,
          123000,
          120500,
          119500,
          123000,
          122000,
          124500,
          124000,
          124500,
          125000,
          124500,
          117000,
          115500,
          117000,
          119000,
          121500,
          119500,
          121000,
          128000,
          129500,
          126500,
          123500,
          126000,
          126000,
          130500,
          129500,
          130500,
          133000,
          134000,
          132500,
          132000,
          132500,
          132500,
          131000,
          128000,
          126000,
          123500,
          127000,
          127000,
          121500,
          119500,
          119500,
          120000,
          120500,
          122500,
          126500,
          128500,
          127500,
          128000,
          129000,
          130000,
          130000,
          128500,
          127000,
          129000,
          127000,
          129000,
          130000,
          132500,
          133500,
          128500,
          128000
         ],
         "increasing": {
          "line": {
           "color": "#17BECF"
          }
         },
         "low": [
          98600,
          99100,
          98900,
          100000,
          100500,
          101000,
          98700,
          100000,
          95500,
          92300,
          93800,
          91700,
          93500,
          94500,
          91300,
          90900,
          90400,
          86300,
          87100,
          91000,
          92900,
          93700,
          92600,
          90500,
          89700,
          91700,
          93900,
          93100,
          95000,
          97100,
          96700,
          96800,
          99000,
          102500,
          104500,
          104500,
          103500,
          107000,
          106000,
          105500,
          106000,
          105000,
          101500,
          107000,
          108500,
          111000,
          111000,
          110000,
          113000,
          110500,
          110000,
          109000,
          108500,
          108000,
          107000,
          106500,
          106500,
          108500,
          109500,
          110000,
          109500,
          108000,
          107500,
          108000,
          108000,
          110500,
          112500,
          111000,
          109500,
          106500,
          107000,
          110000,
          111000,
          110500,
          110500,
          110500,
          110500,
          113000,
          116000,
          114500,
          116000,
          117500,
          120500,
          118500,
          116500,
          118000,
          119500,
          122000,
          121000,
          121000,
          121000,
          121000,
          114000,
          112000,
          114500,
          115500,
          118500,
          116500,
          119000,
          124000,
          127000,
          123000,
          121000,
          122500,
          122000,
          127000,
          126000,
          127000,
          129500,
          130000,
          130000,
          127000,
          129500,
          130000,
          127000,
          124500,
          123500,
          119500,
          124000,
          124000,
          114500,
          111000,
          117500,
          116500,
          116500,
          118000,
          123500,
          123500,
          125000,
          124500,
          126000,
          128000,
          126500,
          124500,
          123000,
          126500,
          123000,
          121500,
          127500,
          128000,
          130000,
          125500,
          124500
         ],
         "name": "SK하이닉스",
         "open": [
          101000,
          100500,
          99100,
          102500,
          102000,
          103000,
          100000,
          101000,
          95900,
          92800,
          94600,
          94000,
          95000,
          95900,
          91300,
          92800,
          90400,
          87500,
          91000,
          91500,
          93300,
          94500,
          92700,
          90500,
          92100,
          95700,
          94700,
          96700,
          95100,
          99900,
          98500,
          96900,
          100000,
          104000,
          105500,
          104500,
          105500,
          108000,
          106000,
          106500,
          108000,
          105500,
          107500,
          109500,
          111500,
          113000,
          111500,
          110500,
          114000,
          111000,
          113500,
          109000,
          109500,
          110500,
          107000,
          107000,
          108000,
          110500,
          111000,
          110000,
          110000,
          109500,
          108000,
          109500,
          109000,
          110500,
          112500,
          112500,
          110000,
          107000,
          108000,
          113000,
          112000,
          110500,
          111000,
          113000,
          111500,
          114500,
          117500,
          115000,
          117000,
          119500,
          123000,
          119500,
          117500,
          122000,
          121000,
          124000,
          121000,
          124000,
          124000,
          121000,
          115000,
          114500,
          115500,
          118500,
          121000,
          117000,
          119000,
          127500,
          128000,
          124500,
          123000,
          125500,
          125500,
          130000,
          127000,
          129000,
          131500,
          130500,
          131000,
          131500,
          130000,
          130500,
          129000,
          127000,
          124500,
          123000,
          125500,
          124500,
          115000,
          119500,
          119000,
          118000,
          116500,
          121500,
          126000,
          123500,
          126500,
          127500,
          128500,
          128500,
          129500,
          125500,
          126500,
          127000,
          123500,
          129000,
          129500,
          132000,
          131000,
          127500,
          126500
         ],
         "showlegend": true,
         "type": "candlestick",
         "x": [
          "2022-07-27",
          "2022-07-26",
          "2022-07-25",
          "2022-07-22",
          "2022-07-21",
          "2022-07-20",
          "2022-07-19",
          "2022-07-18",
          "2022-07-15",
          "2022-07-14",
          "2022-07-13",
          "2022-07-12",
          "2022-07-11",
          "2022-07-08",
          "2022-07-07",
          "2022-07-06",
          "2022-07-05",
          "2022-07-04",
          "2022-07-01",
          "2022-06-30",
          "2022-06-29",
          "2022-06-28",
          "2022-06-27",
          "2022-06-24",
          "2022-06-23",
          "2022-06-22",
          "2022-06-21",
          "2022-06-20",
          "2022-06-17",
          "2022-06-16",
          "2022-06-15",
          "2022-06-14",
          "2022-06-13",
          "2022-06-10",
          "2022-06-09",
          "2022-06-08",
          "2022-06-07",
          "2022-06-03",
          "2022-06-02",
          "2022-05-31",
          "2022-05-30",
          "2022-05-27",
          "2022-05-26",
          "2022-05-25",
          "2022-05-24",
          "2022-05-23",
          "2022-05-20",
          "2022-05-19",
          "2022-05-18",
          "2022-05-17",
          "2022-05-16",
          "2022-05-13",
          "2022-05-12",
          "2022-05-11",
          "2022-05-10",
          "2022-05-09",
          "2022-05-06",
          "2022-05-04",
          "2022-05-03",
          "2022-05-02",
          "2022-04-29",
          "2022-04-28",
          "2022-04-27",
          "2022-04-26",
          "2022-04-25",
          "2022-04-22",
          "2022-04-21",
          "2022-04-20",
          "2022-04-19",
          "2022-04-18",
          "2022-04-15",
          "2022-04-14",
          "2022-04-13",
          "2022-04-12",
          "2022-04-11",
          "2022-04-08",
          "2022-04-07",
          "2022-04-06",
          "2022-04-05",
          "2022-04-04",
          "2022-04-01",
          "2022-03-31",
          "2022-03-30",
          "2022-03-29",
          "2022-03-28",
          "2022-03-25",
          "2022-03-24",
          "2022-03-23",
          "2022-03-22",
          "2022-03-21",
          "2022-03-18",
          "2022-03-17",
          "2022-03-16",
          "2022-03-15",
          "2022-03-14",
          "2022-03-11",
          "2022-03-10",
          "2022-03-08",
          "2022-03-07",
          "2022-03-04",
          "2022-03-03",
          "2022-03-02",
          "2022-02-28",
          "2022-02-25",
          "2022-02-24",
          "2022-02-23",
          "2022-02-22",
          "2022-02-21",
          "2022-02-18",
          "2022-02-17",
          "2022-02-16",
          "2022-02-15",
          "2022-02-14",
          "2022-02-11",
          "2022-02-10",
          "2022-02-09",
          "2022-02-08",
          "2022-02-07",
          "2022-02-04",
          "2022-02-03",
          "2022-01-28",
          "2022-01-27",
          "2022-01-26",
          "2022-01-25",
          "2022-01-24",
          "2022-01-21",
          "2022-01-20",
          "2022-01-19",
          "2022-01-18",
          "2022-01-17",
          "2022-01-14",
          "2022-01-13",
          "2022-01-12",
          "2022-01-11",
          "2022-01-10",
          "2022-01-07",
          "2022-01-06",
          "2022-01-05",
          "2022-01-04",
          "2022-01-03",
          "2021-12-30",
          "2021-12-29",
          "2021-12-28"
         ],
         "yaxis": "y2"
        }
       ],
       "layout": {
        "legend": {
         "bgcolor": "#F5F6F9",
         "font": {
          "color": "#4D5663"
         }
        },
        "margin": {
         "b": 30,
         "l": 30,
         "r": 30,
         "t": 30
        },
        "paper_bgcolor": "#F5F6F9",
        "plot_bgcolor": "#F5F6F9",
        "showlegend": true,
        "template": {
         "data": {
          "bar": [
           {
            "error_x": {
             "color": "#2a3f5f"
            },
            "error_y": {
             "color": "#2a3f5f"
            },
            "marker": {
             "line": {
              "color": "#E5ECF6",
              "width": 0.5
             },
             "pattern": {
              "fillmode": "overlay",
              "size": 10,
              "solidity": 0.2
             }
            },
            "type": "bar"
           }
          ],
          "barpolar": [
           {
            "marker": {
             "line": {
              "color": "#E5ECF6",
              "width": 0.5
             },
             "pattern": {
              "fillmode": "overlay",
              "size": 10,
              "solidity": 0.2
             }
            },
            "type": "barpolar"
           }
          ],
          "carpet": [
           {
            "aaxis": {
             "endlinecolor": "#2a3f5f",
             "gridcolor": "white",
             "linecolor": "white",
             "minorgridcolor": "white",
             "startlinecolor": "#2a3f5f"
            },
            "baxis": {
             "endlinecolor": "#2a3f5f",
             "gridcolor": "white",
             "linecolor": "white",
             "minorgridcolor": "white",
             "startlinecolor": "#2a3f5f"
            },
            "type": "carpet"
           }
          ],
          "choropleth": [
           {
            "colorbar": {
             "outlinewidth": 0,
             "ticks": ""
            },
            "type": "choropleth"
           }
          ],
          "contour": [
           {
            "colorbar": {
             "outlinewidth": 0,
             "ticks": ""
            },
            "colorscale": [
             [
              0,
              "#0d0887"
             ],
             [
              0.1111111111111111,
              "#46039f"
             ],
             [
              0.2222222222222222,
              "#7201a8"
             ],
             [
              0.3333333333333333,
              "#9c179e"
             ],
             [
              0.4444444444444444,
              "#bd3786"
             ],
             [
              0.5555555555555556,
              "#d8576b"
             ],
             [
              0.6666666666666666,
              "#ed7953"
             ],
             [
              0.7777777777777778,
              "#fb9f3a"
             ],
             [
              0.8888888888888888,
              "#fdca26"
             ],
             [
              1,
              "#f0f921"
             ]
            ],
            "type": "contour"
           }
          ],
          "contourcarpet": [
           {
            "colorbar": {
             "outlinewidth": 0,
             "ticks": ""
            },
            "type": "contourcarpet"
           }
          ],
          "heatmap": [
           {
            "colorbar": {
             "outlinewidth": 0,
             "ticks": ""
            },
            "colorscale": [
             [
              0,
              "#0d0887"
             ],
             [
              0.1111111111111111,
              "#46039f"
             ],
             [
              0.2222222222222222,
              "#7201a8"
             ],
             [
              0.3333333333333333,
              "#9c179e"
             ],
             [
              0.4444444444444444,
              "#bd3786"
             ],
             [
              0.5555555555555556,
              "#d8576b"
             ],
             [
              0.6666666666666666,
              "#ed7953"
             ],
             [
              0.7777777777777778,
              "#fb9f3a"
             ],
             [
              0.8888888888888888,
              "#fdca26"
             ],
             [
              1,
              "#f0f921"
             ]
            ],
            "type": "heatmap"
           }
          ],
          "heatmapgl": [
           {
            "colorbar": {
             "outlinewidth": 0,
             "ticks": ""
            },
            "colorscale": [
             [
              0,
              "#0d0887"
             ],
             [
              0.1111111111111111,
              "#46039f"
             ],
             [
              0.2222222222222222,
              "#7201a8"
             ],
             [
              0.3333333333333333,
              "#9c179e"
             ],
             [
              0.4444444444444444,
              "#bd3786"
             ],
             [
              0.5555555555555556,
              "#d8576b"
             ],
             [
              0.6666666666666666,
              "#ed7953"
             ],
             [
              0.7777777777777778,
              "#fb9f3a"
             ],
             [
              0.8888888888888888,
              "#fdca26"
             ],
             [
              1,
              "#f0f921"
             ]
            ],
            "type": "heatmapgl"
           }
          ],
          "histogram": [
           {
            "marker": {
             "pattern": {
              "fillmode": "overlay",
              "size": 10,
              "solidity": 0.2
             }
            },
            "type": "histogram"
           }
          ],
          "histogram2d": [
           {
            "colorbar": {
             "outlinewidth": 0,
             "ticks": ""
            },
            "colorscale": [
             [
              0,
              "#0d0887"
             ],
             [
              0.1111111111111111,
              "#46039f"
             ],
             [
              0.2222222222222222,
              "#7201a8"
             ],
             [
              0.3333333333333333,
              "#9c179e"
             ],
             [
              0.4444444444444444,
              "#bd3786"
             ],
             [
              0.5555555555555556,
              "#d8576b"
             ],
             [
              0.6666666666666666,
              "#ed7953"
             ],
             [
              0.7777777777777778,
              "#fb9f3a"
             ],
             [
              0.8888888888888888,
              "#fdca26"
             ],
             [
              1,
              "#f0f921"
             ]
            ],
            "type": "histogram2d"
           }
          ],
          "histogram2dcontour": [
           {
            "colorbar": {
             "outlinewidth": 0,
             "ticks": ""
            },
            "colorscale": [
             [
              0,
              "#0d0887"
             ],
             [
              0.1111111111111111,
              "#46039f"
             ],
             [
              0.2222222222222222,
              "#7201a8"
             ],
             [
              0.3333333333333333,
              "#9c179e"
             ],
             [
              0.4444444444444444,
              "#bd3786"
             ],
             [
              0.5555555555555556,
              "#d8576b"
             ],
             [
              0.6666666666666666,
              "#ed7953"
             ],
             [
              0.7777777777777778,
              "#fb9f3a"
             ],
             [
              0.8888888888888888,
              "#fdca26"
             ],
             [
              1,
              "#f0f921"
             ]
            ],
            "type": "histogram2dcontour"
           }
          ],
          "mesh3d": [
           {
            "colorbar": {
             "outlinewidth": 0,
             "ticks": ""
            },
            "type": "mesh3d"
           }
          ],
          "parcoords": [
           {
            "line": {
             "colorbar": {
              "outlinewidth": 0,
              "ticks": ""
             }
            },
            "type": "parcoords"
           }
          ],
          "pie": [
           {
            "automargin": true,
            "type": "pie"
           }
          ],
          "scatter": [
           {
            "marker": {
             "colorbar": {
              "outlinewidth": 0,
              "ticks": ""
             }
            },
            "type": "scatter"
           }
          ],
          "scatter3d": [
           {
            "line": {
             "colorbar": {
              "outlinewidth": 0,
              "ticks": ""
             }
            },
            "marker": {
             "colorbar": {
              "outlinewidth": 0,
              "ticks": ""
             }
            },
            "type": "scatter3d"
           }
          ],
          "scattercarpet": [
           {
            "marker": {
             "colorbar": {
              "outlinewidth": 0,
              "ticks": ""
             }
            },
            "type": "scattercarpet"
           }
          ],
          "scattergeo": [
           {
            "marker": {
             "colorbar": {
              "outlinewidth": 0,
              "ticks": ""
             }
            },
            "type": "scattergeo"
           }
          ],
          "scattergl": [
           {
            "marker": {
             "colorbar": {
              "outlinewidth": 0,
              "ticks": ""
             }
            },
            "type": "scattergl"
           }
          ],
          "scattermapbox": [
           {
            "marker": {
             "colorbar": {
              "outlinewidth": 0,
              "ticks": ""
             }
            },
            "type": "scattermapbox"
           }
          ],
          "scatterpolar": [
           {
            "marker": {
             "colorbar": {
              "outlinewidth": 0,
              "ticks": ""
             }
            },
            "type": "scatterpolar"
           }
          ],
          "scatterpolargl": [
           {
            "marker": {
             "colorbar": {
              "outlinewidth": 0,
              "ticks": ""
             }
            },
            "type": "scatterpolargl"
           }
          ],
          "scatterternary": [
           {
            "marker": {
             "colorbar": {
              "outlinewidth": 0,
              "ticks": ""
             }
            },
            "type": "scatterternary"
           }
          ],
          "surface": [
           {
            "colorbar": {
             "outlinewidth": 0,
             "ticks": ""
            },
            "colorscale": [
             [
              0,
              "#0d0887"
             ],
             [
              0.1111111111111111,
              "#46039f"
             ],
             [
              0.2222222222222222,
              "#7201a8"
             ],
             [
              0.3333333333333333,
              "#9c179e"
             ],
             [
              0.4444444444444444,
              "#bd3786"
             ],
             [
              0.5555555555555556,
              "#d8576b"
             ],
             [
              0.6666666666666666,
              "#ed7953"
             ],
             [
              0.7777777777777778,
              "#fb9f3a"
             ],
             [
              0.8888888888888888,
              "#fdca26"
             ],
             [
              1,
              "#f0f921"
             ]
            ],
            "type": "surface"
           }
          ],
          "table": [
           {
            "cells": {
             "fill": {
              "color": "#EBF0F8"
             },
             "line": {
              "color": "white"
             }
            },
            "header": {
             "fill": {
              "color": "#C8D4E3"
             },
             "line": {
              "color": "white"
             }
            },
            "type": "table"
           }
          ]
         },
         "layout": {
          "annotationdefaults": {
           "arrowcolor": "#2a3f5f",
           "arrowhead": 0,
           "arrowwidth": 1
          },
          "autotypenumbers": "strict",
          "coloraxis": {
           "colorbar": {
            "outlinewidth": 0,
            "ticks": ""
           }
          },
          "colorscale": {
           "diverging": [
            [
             0,
             "#8e0152"
            ],
            [
             0.1,
             "#c51b7d"
            ],
            [
             0.2,
             "#de77ae"
            ],
            [
             0.3,
             "#f1b6da"
            ],
            [
             0.4,
             "#fde0ef"
            ],
            [
             0.5,
             "#f7f7f7"
            ],
            [
             0.6,
             "#e6f5d0"
            ],
            [
             0.7,
             "#b8e186"
            ],
            [
             0.8,
             "#7fbc41"
            ],
            [
             0.9,
             "#4d9221"
            ],
            [
             1,
             "#276419"
            ]
           ],
           "sequential": [
            [
             0,
             "#0d0887"
            ],
            [
             0.1111111111111111,
             "#46039f"
            ],
            [
             0.2222222222222222,
             "#7201a8"
            ],
            [
             0.3333333333333333,
             "#9c179e"
            ],
            [
             0.4444444444444444,
             "#bd3786"
            ],
            [
             0.5555555555555556,
             "#d8576b"
            ],
            [
             0.6666666666666666,
             "#ed7953"
            ],
            [
             0.7777777777777778,
             "#fb9f3a"
            ],
            [
             0.8888888888888888,
             "#fdca26"
            ],
            [
             1,
             "#f0f921"
            ]
           ],
           "sequentialminus": [
            [
             0,
             "#0d0887"
            ],
            [
             0.1111111111111111,
             "#46039f"
            ],
            [
             0.2222222222222222,
             "#7201a8"
            ],
            [
             0.3333333333333333,
             "#9c179e"
            ],
            [
             0.4444444444444444,
             "#bd3786"
            ],
            [
             0.5555555555555556,
             "#d8576b"
            ],
            [
             0.6666666666666666,
             "#ed7953"
            ],
            [
             0.7777777777777778,
             "#fb9f3a"
            ],
            [
             0.8888888888888888,
             "#fdca26"
            ],
            [
             1,
             "#f0f921"
            ]
           ]
          },
          "colorway": [
           "#636efa",
           "#EF553B",
           "#00cc96",
           "#ab63fa",
           "#FFA15A",
           "#19d3f3",
           "#FF6692",
           "#B6E880",
           "#FF97FF",
           "#FECB52"
          ],
          "font": {
           "color": "#2a3f5f"
          },
          "geo": {
           "bgcolor": "white",
           "lakecolor": "white",
           "landcolor": "#E5ECF6",
           "showlakes": true,
           "showland": true,
           "subunitcolor": "white"
          },
          "hoverlabel": {
           "align": "left"
          },
          "hovermode": "closest",
          "mapbox": {
           "style": "light"
          },
          "paper_bgcolor": "white",
          "plot_bgcolor": "#E5ECF6",
          "polar": {
           "angularaxis": {
            "gridcolor": "white",
            "linecolor": "white",
            "ticks": ""
           },
           "bgcolor": "#E5ECF6",
           "radialaxis": {
            "gridcolor": "white",
            "linecolor": "white",
            "ticks": ""
           }
          },
          "scene": {
           "xaxis": {
            "backgroundcolor": "#E5ECF6",
            "gridcolor": "white",
            "gridwidth": 2,
            "linecolor": "white",
            "showbackground": true,
            "ticks": "",
            "zerolinecolor": "white"
           },
           "yaxis": {
            "backgroundcolor": "#E5ECF6",
            "gridcolor": "white",
            "gridwidth": 2,
            "linecolor": "white",
            "showbackground": true,
            "ticks": "",
            "zerolinecolor": "white"
           },
           "zaxis": {
            "backgroundcolor": "#E5ECF6",
            "gridcolor": "white",
            "gridwidth": 2,
            "linecolor": "white",
            "showbackground": true,
            "ticks": "",
            "zerolinecolor": "white"
           }
          },
          "shapedefaults": {
           "line": {
            "color": "#2a3f5f"
           }
          },
          "ternary": {
           "aaxis": {
            "gridcolor": "white",
            "linecolor": "white",
            "ticks": ""
           },
           "baxis": {
            "gridcolor": "white",
            "linecolor": "white",
            "ticks": ""
           },
           "bgcolor": "#E5ECF6",
           "caxis": {
            "gridcolor": "white",
            "linecolor": "white",
            "ticks": ""
           }
          },
          "title": {
           "x": 0.05
          },
          "xaxis": {
           "automargin": true,
           "gridcolor": "white",
           "linecolor": "white",
           "ticks": "",
           "title": {
            "standoff": 15
           },
           "zerolinecolor": "white",
           "zerolinewidth": 2
          },
          "yaxis": {
           "automargin": true,
           "gridcolor": "white",
           "linecolor": "white",
           "ticks": "",
           "title": {
            "standoff": 15
           },
           "zerolinecolor": "white",
           "zerolinewidth": 2
          }
         }
        },
        "title": {
         "font": {
          "color": "#4D5663"
         },
         "text": "SK하이닉스"
        },
        "xaxis": {
         "anchor": "y2",
         "gridcolor": "#E1E5ED",
         "rangeselector": {
          "bgcolor": "rgba(150, 200, 250, 1)",
          "buttons": [
           {
            "count": 1,
            "label": "1m",
            "step": "month",
            "stepmode": "backward"
           },
           {
            "count": 1,
            "label": "1y",
            "step": "year",
            "stepmode": "backward"
           }
          ],
          "font": {
           "size": 13
          },
          "visible": false,
          "x": 0,
          "y": 0.9
         },
         "rangeslider": {
          "visible": false
         },
         "showgrid": true,
         "tickfont": {
          "color": "#4D5663"
         },
         "title": {
          "font": {
           "color": "#4D5663"
          },
          "text": ""
         },
         "zerolinecolor": "#E1E5ED"
        },
        "yaxis": {
         "gridcolor": "#E1E5ED",
         "showgrid": true,
         "showticklabels": false,
         "tickfont": {
          "color": "#4D5663"
         },
         "title": {
          "font": {
           "color": "#4D5663"
          },
          "text": ""
         },
         "zerolinecolor": "#E1E5ED"
        },
        "yaxis2": {
         "domain": [
          0,
          0.9
         ],
         "gridcolor": "#E1E5ED",
         "showgrid": true,
         "tickfont": {
          "color": "#4D5663"
         },
         "title": {
          "font": {
           "color": "#4D5663"
          },
          "text": ""
         },
         "zerolinecolor": "#E1E5ED"
        }
       }
      },
      "text/html": [
       "<div>                            <div id=\"76401e3f-27a0-4516-9990-b59f153e33ba\" class=\"plotly-graph-div\" style=\"height:525px; width:100%;\"></div>            <script type=\"text/javascript\">                require([\"plotly\"], function(Plotly) {                    window.PLOTLYENV=window.PLOTLYENV || {};\n",
       "                    window.PLOTLYENV.BASE_URL='https://plot.ly';                                    if (document.getElementById(\"76401e3f-27a0-4516-9990-b59f153e33ba\")) {                    Plotly.newPlot(                        \"76401e3f-27a0-4516-9990-b59f153e33ba\",                        [{\"close\":[100000,100500,100000,100000,102500,102000,100000,101000,98700,94000,94000,93300,93700,94800,93900,92100,92500,89100,87500,91000,94000,95300,95000,91600,90200,92200,95200,94500,96400,97400,97900,99100,99000,103500,105500,106000,104000,107000,107000,108000,107000,106000,103000,108000,108500,113000,112500,111000,113500,112500,110500,112500,109000,110500,110000,107500,107500,109500,110000,110500,112500,109500,108500,111000,108000,110500,113000,112500,112500,109000,108000,110000,113000,111000,111500,112000,113500,113000,116500,117000,116000,118000,121000,120000,118000,118000,120500,123500,123500,122000,124000,124000,116500,112500,116000,117000,120000,118000,119500,124500,129000,125000,123500,123000,122500,128500,128500,130000,131500,133000,130500,127000,132500,132000,129500,126000,125000,123000,124500,124000,120500,113500,117500,118000,119000,119000,125000,127000,126500,127000,128500,129500,128500,128000,124500,127000,125000,125500,128500,128500,131000,127000,127500],\"decreasing\":{\"line\":{\"color\":\"#808080\"}},\"high\":[101500,101000,101500,102500,103000,104500,100500,103500,99000,95500,96400,94000,95700,96500,95200,93600,93400,89600,92500,93100,94900,95300,96100,92000,93000,95700,95900,96800,96400,101500,98900,99600,101000,104500,107000,107500,106000,108500,107500,108000,108000,107000,108500,110000,112000,113500,113000,112500,115000,113000,114000,112500,111500,112500,111000,109000,108500,111000,112000,111500,112500,110000,109500,111000,109500,112000,115000,113000,112500,109500,108500,113000,113000,113000,113000,114000,114500,115500,118000,117500,117500,120000,123000,120500,119500,123000,122000,124500,124000,124500,125000,124500,117000,115500,117000,119000,121500,119500,121000,128000,129500,126500,123500,126000,126000,130500,129500,130500,133000,134000,132500,132000,132500,132500,131000,128000,126000,123500,127000,127000,121500,119500,119500,120000,120500,122500,126500,128500,127500,128000,129000,130000,130000,128500,127000,129000,127000,129000,130000,132500,133500,128500,128000],\"increasing\":{\"line\":{\"color\":\"#17BECF\"}},\"low\":[98600,99100,98900,100000,100500,101000,98700,100000,95500,92300,93800,91700,93500,94500,91300,90900,90400,86300,87100,91000,92900,93700,92600,90500,89700,91700,93900,93100,95000,97100,96700,96800,99000,102500,104500,104500,103500,107000,106000,105500,106000,105000,101500,107000,108500,111000,111000,110000,113000,110500,110000,109000,108500,108000,107000,106500,106500,108500,109500,110000,109500,108000,107500,108000,108000,110500,112500,111000,109500,106500,107000,110000,111000,110500,110500,110500,110500,113000,116000,114500,116000,117500,120500,118500,116500,118000,119500,122000,121000,121000,121000,121000,114000,112000,114500,115500,118500,116500,119000,124000,127000,123000,121000,122500,122000,127000,126000,127000,129500,130000,130000,127000,129500,130000,127000,124500,123500,119500,124000,124000,114500,111000,117500,116500,116500,118000,123500,123500,125000,124500,126000,128000,126500,124500,123000,126500,123000,121500,127500,128000,130000,125500,124500],\"name\":\"SK\\ud558\\uc774\\ub2c9\\uc2a4\",\"open\":[101000,100500,99100,102500,102000,103000,100000,101000,95900,92800,94600,94000,95000,95900,91300,92800,90400,87500,91000,91500,93300,94500,92700,90500,92100,95700,94700,96700,95100,99900,98500,96900,100000,104000,105500,104500,105500,108000,106000,106500,108000,105500,107500,109500,111500,113000,111500,110500,114000,111000,113500,109000,109500,110500,107000,107000,108000,110500,111000,110000,110000,109500,108000,109500,109000,110500,112500,112500,110000,107000,108000,113000,112000,110500,111000,113000,111500,114500,117500,115000,117000,119500,123000,119500,117500,122000,121000,124000,121000,124000,124000,121000,115000,114500,115500,118500,121000,117000,119000,127500,128000,124500,123000,125500,125500,130000,127000,129000,131500,130500,131000,131500,130000,130500,129000,127000,124500,123000,125500,124500,115000,119500,119000,118000,116500,121500,126000,123500,126500,127500,128500,128500,129500,125500,126500,127000,123500,129000,129500,132000,131000,127500,126500],\"showlegend\":true,\"x\":[\"2022-07-27\",\"2022-07-26\",\"2022-07-25\",\"2022-07-22\",\"2022-07-21\",\"2022-07-20\",\"2022-07-19\",\"2022-07-18\",\"2022-07-15\",\"2022-07-14\",\"2022-07-13\",\"2022-07-12\",\"2022-07-11\",\"2022-07-08\",\"2022-07-07\",\"2022-07-06\",\"2022-07-05\",\"2022-07-04\",\"2022-07-01\",\"2022-06-30\",\"2022-06-29\",\"2022-06-28\",\"2022-06-27\",\"2022-06-24\",\"2022-06-23\",\"2022-06-22\",\"2022-06-21\",\"2022-06-20\",\"2022-06-17\",\"2022-06-16\",\"2022-06-15\",\"2022-06-14\",\"2022-06-13\",\"2022-06-10\",\"2022-06-09\",\"2022-06-08\",\"2022-06-07\",\"2022-06-03\",\"2022-06-02\",\"2022-05-31\",\"2022-05-30\",\"2022-05-27\",\"2022-05-26\",\"2022-05-25\",\"2022-05-24\",\"2022-05-23\",\"2022-05-20\",\"2022-05-19\",\"2022-05-18\",\"2022-05-17\",\"2022-05-16\",\"2022-05-13\",\"2022-05-12\",\"2022-05-11\",\"2022-05-10\",\"2022-05-09\",\"2022-05-06\",\"2022-05-04\",\"2022-05-03\",\"2022-05-02\",\"2022-04-29\",\"2022-04-28\",\"2022-04-27\",\"2022-04-26\",\"2022-04-25\",\"2022-04-22\",\"2022-04-21\",\"2022-04-20\",\"2022-04-19\",\"2022-04-18\",\"2022-04-15\",\"2022-04-14\",\"2022-04-13\",\"2022-04-12\",\"2022-04-11\",\"2022-04-08\",\"2022-04-07\",\"2022-04-06\",\"2022-04-05\",\"2022-04-04\",\"2022-04-01\",\"2022-03-31\",\"2022-03-30\",\"2022-03-29\",\"2022-03-28\",\"2022-03-25\",\"2022-03-24\",\"2022-03-23\",\"2022-03-22\",\"2022-03-21\",\"2022-03-18\",\"2022-03-17\",\"2022-03-16\",\"2022-03-15\",\"2022-03-14\",\"2022-03-11\",\"2022-03-10\",\"2022-03-08\",\"2022-03-07\",\"2022-03-04\",\"2022-03-03\",\"2022-03-02\",\"2022-02-28\",\"2022-02-25\",\"2022-02-24\",\"2022-02-23\",\"2022-02-22\",\"2022-02-21\",\"2022-02-18\",\"2022-02-17\",\"2022-02-16\",\"2022-02-15\",\"2022-02-14\",\"2022-02-11\",\"2022-02-10\",\"2022-02-09\",\"2022-02-08\",\"2022-02-07\",\"2022-02-04\",\"2022-02-03\",\"2022-01-28\",\"2022-01-27\",\"2022-01-26\",\"2022-01-25\",\"2022-01-24\",\"2022-01-21\",\"2022-01-20\",\"2022-01-19\",\"2022-01-18\",\"2022-01-17\",\"2022-01-14\",\"2022-01-13\",\"2022-01-12\",\"2022-01-11\",\"2022-01-10\",\"2022-01-07\",\"2022-01-06\",\"2022-01-05\",\"2022-01-04\",\"2022-01-03\",\"2021-12-30\",\"2021-12-29\",\"2021-12-28\"],\"yaxis\":\"y2\",\"type\":\"candlestick\"}],                        {\"legend\":{\"bgcolor\":\"#F5F6F9\",\"font\":{\"color\":\"#4D5663\"}},\"margin\":{\"b\":30,\"l\":30,\"r\":30,\"t\":30},\"paper_bgcolor\":\"#F5F6F9\",\"plot_bgcolor\":\"#F5F6F9\",\"showlegend\":true,\"template\":{\"data\":{\"barpolar\":[{\"marker\":{\"line\":{\"color\":\"#E5ECF6\",\"width\":0.5},\"pattern\":{\"fillmode\":\"overlay\",\"size\":10,\"solidity\":0.2}},\"type\":\"barpolar\"}],\"bar\":[{\"error_x\":{\"color\":\"#2a3f5f\"},\"error_y\":{\"color\":\"#2a3f5f\"},\"marker\":{\"line\":{\"color\":\"#E5ECF6\",\"width\":0.5},\"pattern\":{\"fillmode\":\"overlay\",\"size\":10,\"solidity\":0.2}},\"type\":\"bar\"}],\"carpet\":[{\"aaxis\":{\"endlinecolor\":\"#2a3f5f\",\"gridcolor\":\"white\",\"linecolor\":\"white\",\"minorgridcolor\":\"white\",\"startlinecolor\":\"#2a3f5f\"},\"baxis\":{\"endlinecolor\":\"#2a3f5f\",\"gridcolor\":\"white\",\"linecolor\":\"white\",\"minorgridcolor\":\"white\",\"startlinecolor\":\"#2a3f5f\"},\"type\":\"carpet\"}],\"choropleth\":[{\"colorbar\":{\"outlinewidth\":0,\"ticks\":\"\"},\"type\":\"choropleth\"}],\"contourcarpet\":[{\"colorbar\":{\"outlinewidth\":0,\"ticks\":\"\"},\"type\":\"contourcarpet\"}],\"contour\":[{\"colorbar\":{\"outlinewidth\":0,\"ticks\":\"\"},\"colorscale\":[[0.0,\"#0d0887\"],[0.1111111111111111,\"#46039f\"],[0.2222222222222222,\"#7201a8\"],[0.3333333333333333,\"#9c179e\"],[0.4444444444444444,\"#bd3786\"],[0.5555555555555556,\"#d8576b\"],[0.6666666666666666,\"#ed7953\"],[0.7777777777777778,\"#fb9f3a\"],[0.8888888888888888,\"#fdca26\"],[1.0,\"#f0f921\"]],\"type\":\"contour\"}],\"heatmapgl\":[{\"colorbar\":{\"outlinewidth\":0,\"ticks\":\"\"},\"colorscale\":[[0.0,\"#0d0887\"],[0.1111111111111111,\"#46039f\"],[0.2222222222222222,\"#7201a8\"],[0.3333333333333333,\"#9c179e\"],[0.4444444444444444,\"#bd3786\"],[0.5555555555555556,\"#d8576b\"],[0.6666666666666666,\"#ed7953\"],[0.7777777777777778,\"#fb9f3a\"],[0.8888888888888888,\"#fdca26\"],[1.0,\"#f0f921\"]],\"type\":\"heatmapgl\"}],\"heatmap\":[{\"colorbar\":{\"outlinewidth\":0,\"ticks\":\"\"},\"colorscale\":[[0.0,\"#0d0887\"],[0.1111111111111111,\"#46039f\"],[0.2222222222222222,\"#7201a8\"],[0.3333333333333333,\"#9c179e\"],[0.4444444444444444,\"#bd3786\"],[0.5555555555555556,\"#d8576b\"],[0.6666666666666666,\"#ed7953\"],[0.7777777777777778,\"#fb9f3a\"],[0.8888888888888888,\"#fdca26\"],[1.0,\"#f0f921\"]],\"type\":\"heatmap\"}],\"histogram2dcontour\":[{\"colorbar\":{\"outlinewidth\":0,\"ticks\":\"\"},\"colorscale\":[[0.0,\"#0d0887\"],[0.1111111111111111,\"#46039f\"],[0.2222222222222222,\"#7201a8\"],[0.3333333333333333,\"#9c179e\"],[0.4444444444444444,\"#bd3786\"],[0.5555555555555556,\"#d8576b\"],[0.6666666666666666,\"#ed7953\"],[0.7777777777777778,\"#fb9f3a\"],[0.8888888888888888,\"#fdca26\"],[1.0,\"#f0f921\"]],\"type\":\"histogram2dcontour\"}],\"histogram2d\":[{\"colorbar\":{\"outlinewidth\":0,\"ticks\":\"\"},\"colorscale\":[[0.0,\"#0d0887\"],[0.1111111111111111,\"#46039f\"],[0.2222222222222222,\"#7201a8\"],[0.3333333333333333,\"#9c179e\"],[0.4444444444444444,\"#bd3786\"],[0.5555555555555556,\"#d8576b\"],[0.6666666666666666,\"#ed7953\"],[0.7777777777777778,\"#fb9f3a\"],[0.8888888888888888,\"#fdca26\"],[1.0,\"#f0f921\"]],\"type\":\"histogram2d\"}],\"histogram\":[{\"marker\":{\"pattern\":{\"fillmode\":\"overlay\",\"size\":10,\"solidity\":0.2}},\"type\":\"histogram\"}],\"mesh3d\":[{\"colorbar\":{\"outlinewidth\":0,\"ticks\":\"\"},\"type\":\"mesh3d\"}],\"parcoords\":[{\"line\":{\"colorbar\":{\"outlinewidth\":0,\"ticks\":\"\"}},\"type\":\"parcoords\"}],\"pie\":[{\"automargin\":true,\"type\":\"pie\"}],\"scatter3d\":[{\"line\":{\"colorbar\":{\"outlinewidth\":0,\"ticks\":\"\"}},\"marker\":{\"colorbar\":{\"outlinewidth\":0,\"ticks\":\"\"}},\"type\":\"scatter3d\"}],\"scattercarpet\":[{\"marker\":{\"colorbar\":{\"outlinewidth\":0,\"ticks\":\"\"}},\"type\":\"scattercarpet\"}],\"scattergeo\":[{\"marker\":{\"colorbar\":{\"outlinewidth\":0,\"ticks\":\"\"}},\"type\":\"scattergeo\"}],\"scattergl\":[{\"marker\":{\"colorbar\":{\"outlinewidth\":0,\"ticks\":\"\"}},\"type\":\"scattergl\"}],\"scattermapbox\":[{\"marker\":{\"colorbar\":{\"outlinewidth\":0,\"ticks\":\"\"}},\"type\":\"scattermapbox\"}],\"scatterpolargl\":[{\"marker\":{\"colorbar\":{\"outlinewidth\":0,\"ticks\":\"\"}},\"type\":\"scatterpolargl\"}],\"scatterpolar\":[{\"marker\":{\"colorbar\":{\"outlinewidth\":0,\"ticks\":\"\"}},\"type\":\"scatterpolar\"}],\"scatter\":[{\"marker\":{\"colorbar\":{\"outlinewidth\":0,\"ticks\":\"\"}},\"type\":\"scatter\"}],\"scatterternary\":[{\"marker\":{\"colorbar\":{\"outlinewidth\":0,\"ticks\":\"\"}},\"type\":\"scatterternary\"}],\"surface\":[{\"colorbar\":{\"outlinewidth\":0,\"ticks\":\"\"},\"colorscale\":[[0.0,\"#0d0887\"],[0.1111111111111111,\"#46039f\"],[0.2222222222222222,\"#7201a8\"],[0.3333333333333333,\"#9c179e\"],[0.4444444444444444,\"#bd3786\"],[0.5555555555555556,\"#d8576b\"],[0.6666666666666666,\"#ed7953\"],[0.7777777777777778,\"#fb9f3a\"],[0.8888888888888888,\"#fdca26\"],[1.0,\"#f0f921\"]],\"type\":\"surface\"}],\"table\":[{\"cells\":{\"fill\":{\"color\":\"#EBF0F8\"},\"line\":{\"color\":\"white\"}},\"header\":{\"fill\":{\"color\":\"#C8D4E3\"},\"line\":{\"color\":\"white\"}},\"type\":\"table\"}]},\"layout\":{\"annotationdefaults\":{\"arrowcolor\":\"#2a3f5f\",\"arrowhead\":0,\"arrowwidth\":1},\"autotypenumbers\":\"strict\",\"coloraxis\":{\"colorbar\":{\"outlinewidth\":0,\"ticks\":\"\"}},\"colorscale\":{\"diverging\":[[0,\"#8e0152\"],[0.1,\"#c51b7d\"],[0.2,\"#de77ae\"],[0.3,\"#f1b6da\"],[0.4,\"#fde0ef\"],[0.5,\"#f7f7f7\"],[0.6,\"#e6f5d0\"],[0.7,\"#b8e186\"],[0.8,\"#7fbc41\"],[0.9,\"#4d9221\"],[1,\"#276419\"]],\"sequential\":[[0.0,\"#0d0887\"],[0.1111111111111111,\"#46039f\"],[0.2222222222222222,\"#7201a8\"],[0.3333333333333333,\"#9c179e\"],[0.4444444444444444,\"#bd3786\"],[0.5555555555555556,\"#d8576b\"],[0.6666666666666666,\"#ed7953\"],[0.7777777777777778,\"#fb9f3a\"],[0.8888888888888888,\"#fdca26\"],[1.0,\"#f0f921\"]],\"sequentialminus\":[[0.0,\"#0d0887\"],[0.1111111111111111,\"#46039f\"],[0.2222222222222222,\"#7201a8\"],[0.3333333333333333,\"#9c179e\"],[0.4444444444444444,\"#bd3786\"],[0.5555555555555556,\"#d8576b\"],[0.6666666666666666,\"#ed7953\"],[0.7777777777777778,\"#fb9f3a\"],[0.8888888888888888,\"#fdca26\"],[1.0,\"#f0f921\"]]},\"colorway\":[\"#636efa\",\"#EF553B\",\"#00cc96\",\"#ab63fa\",\"#FFA15A\",\"#19d3f3\",\"#FF6692\",\"#B6E880\",\"#FF97FF\",\"#FECB52\"],\"font\":{\"color\":\"#2a3f5f\"},\"geo\":{\"bgcolor\":\"white\",\"lakecolor\":\"white\",\"landcolor\":\"#E5ECF6\",\"showlakes\":true,\"showland\":true,\"subunitcolor\":\"white\"},\"hoverlabel\":{\"align\":\"left\"},\"hovermode\":\"closest\",\"mapbox\":{\"style\":\"light\"},\"paper_bgcolor\":\"white\",\"plot_bgcolor\":\"#E5ECF6\",\"polar\":{\"angularaxis\":{\"gridcolor\":\"white\",\"linecolor\":\"white\",\"ticks\":\"\"},\"bgcolor\":\"#E5ECF6\",\"radialaxis\":{\"gridcolor\":\"white\",\"linecolor\":\"white\",\"ticks\":\"\"}},\"scene\":{\"xaxis\":{\"backgroundcolor\":\"#E5ECF6\",\"gridcolor\":\"white\",\"gridwidth\":2,\"linecolor\":\"white\",\"showbackground\":true,\"ticks\":\"\",\"zerolinecolor\":\"white\"},\"yaxis\":{\"backgroundcolor\":\"#E5ECF6\",\"gridcolor\":\"white\",\"gridwidth\":2,\"linecolor\":\"white\",\"showbackground\":true,\"ticks\":\"\",\"zerolinecolor\":\"white\"},\"zaxis\":{\"backgroundcolor\":\"#E5ECF6\",\"gridcolor\":\"white\",\"gridwidth\":2,\"linecolor\":\"white\",\"showbackground\":true,\"ticks\":\"\",\"zerolinecolor\":\"white\"}},\"shapedefaults\":{\"line\":{\"color\":\"#2a3f5f\"}},\"ternary\":{\"aaxis\":{\"gridcolor\":\"white\",\"linecolor\":\"white\",\"ticks\":\"\"},\"baxis\":{\"gridcolor\":\"white\",\"linecolor\":\"white\",\"ticks\":\"\"},\"bgcolor\":\"#E5ECF6\",\"caxis\":{\"gridcolor\":\"white\",\"linecolor\":\"white\",\"ticks\":\"\"}},\"title\":{\"x\":0.05},\"xaxis\":{\"automargin\":true,\"gridcolor\":\"white\",\"linecolor\":\"white\",\"ticks\":\"\",\"title\":{\"standoff\":15},\"zerolinecolor\":\"white\",\"zerolinewidth\":2},\"yaxis\":{\"automargin\":true,\"gridcolor\":\"white\",\"linecolor\":\"white\",\"ticks\":\"\",\"title\":{\"standoff\":15},\"zerolinecolor\":\"white\",\"zerolinewidth\":2}}},\"title\":{\"font\":{\"color\":\"#4D5663\"},\"text\":\"SK\\ud558\\uc774\\ub2c9\\uc2a4\"},\"xaxis\":{\"anchor\":\"y2\",\"gridcolor\":\"#E1E5ED\",\"rangeselector\":{\"bgcolor\":\"rgba(150, 200, 250, 1)\",\"buttons\":[{\"count\":1,\"label\":\"1m\",\"step\":\"month\",\"stepmode\":\"backward\"},{\"count\":1,\"label\":\"1y\",\"step\":\"year\",\"stepmode\":\"backward\"}],\"font\":{\"size\":13},\"visible\":false,\"x\":0,\"y\":0.9},\"rangeslider\":{\"visible\":false},\"showgrid\":true,\"tickfont\":{\"color\":\"#4D5663\"},\"title\":{\"font\":{\"color\":\"#4D5663\"},\"text\":\"\"},\"zerolinecolor\":\"#E1E5ED\"},\"yaxis\":{\"gridcolor\":\"#E1E5ED\",\"showgrid\":true,\"showticklabels\":false,\"tickfont\":{\"color\":\"#4D5663\"},\"title\":{\"font\":{\"color\":\"#4D5663\"},\"text\":\"\"},\"zerolinecolor\":\"#E1E5ED\"},\"yaxis2\":{\"domain\":[0.0,0.9],\"gridcolor\":\"#E1E5ED\",\"showgrid\":true,\"tickfont\":{\"color\":\"#4D5663\"},\"title\":{\"font\":{\"color\":\"#4D5663\"},\"text\":\"\"},\"zerolinecolor\":\"#E1E5ED\"}},                        {\"showLink\": true, \"linkText\": \"Export to plot.ly\", \"plotlyServerURL\": \"https://plot.ly\", \"responsive\": true}                    ).then(function(){\n",
       "                            \n",
       "var gd = document.getElementById('76401e3f-27a0-4516-9990-b59f153e33ba');\n",
       "var x = new MutationObserver(function (mutations, observer) {{\n",
       "        var display = window.getComputedStyle(gd).display;\n",
       "        if (!display || display === 'none') {{\n",
       "            console.log([gd, 'removed!']);\n",
       "            Plotly.purge(gd);\n",
       "            observer.disconnect();\n",
       "        }}\n",
       "}});\n",
       "\n",
       "// Listen for the removal of the full notebook cells\n",
       "var notebookContainer = gd.closest('#notebook-container');\n",
       "if (notebookContainer) {{\n",
       "    x.observe(notebookContainer, {childList: true});\n",
       "}}\n",
       "\n",
       "// Listen for the clearing of the current output cell\n",
       "var outputEl = gd.closest('.output');\n",
       "if (outputEl) {{\n",
       "    x.observe(outputEl, {childList: true});\n",
       "}}\n",
       "\n",
       "                        })                };                });            </script>        </div>"
      ]
     },
     "metadata": {},
     "output_type": "display_data"
    }
   ],
   "source": [
    "qf.iplot(title = company_name, name = company_name) # 놀랍게도 iplot은 한글이 지원됨"
   ]
  },
  {
   "cell_type": "code",
   "execution_count": 13,
   "id": "205db156",
   "metadata": {},
   "outputs": [
    {
     "data": {
      "application/vnd.plotly.v1+json": {
       "config": {
        "linkText": "Export to plot.ly",
        "plotlyServerURL": "https://plot.ly",
        "showLink": true
       },
       "data": [
        {
         "line": {
          "color": "rgba(55, 128, 191, 1.0)",
          "dash": "solid",
          "shape": "linear",
          "width": 1.3
         },
         "mode": "lines",
         "name": " SMA(20)",
         "text": "",
         "type": "scatter",
         "x": [
          "2022-07-27",
          "2022-07-26",
          "2022-07-25",
          "2022-07-22",
          "2022-07-21",
          "2022-07-20",
          "2022-07-19",
          "2022-07-18",
          "2022-07-15",
          "2022-07-14",
          "2022-07-13",
          "2022-07-12",
          "2022-07-11",
          "2022-07-08",
          "2022-07-07",
          "2022-07-06",
          "2022-07-05",
          "2022-07-04",
          "2022-07-01",
          "2022-06-30",
          "2022-06-29",
          "2022-06-28",
          "2022-06-27",
          "2022-06-24",
          "2022-06-23",
          "2022-06-22",
          "2022-06-21",
          "2022-06-20",
          "2022-06-17",
          "2022-06-16",
          "2022-06-15",
          "2022-06-14",
          "2022-06-13",
          "2022-06-10",
          "2022-06-09",
          "2022-06-08",
          "2022-06-07",
          "2022-06-03",
          "2022-06-02",
          "2022-05-31",
          "2022-05-30",
          "2022-05-27",
          "2022-05-26",
          "2022-05-25",
          "2022-05-24",
          "2022-05-23",
          "2022-05-20",
          "2022-05-19",
          "2022-05-18",
          "2022-05-17",
          "2022-05-16",
          "2022-05-13",
          "2022-05-12",
          "2022-05-11",
          "2022-05-10",
          "2022-05-09",
          "2022-05-06",
          "2022-05-04",
          "2022-05-03",
          "2022-05-02",
          "2022-04-29",
          "2022-04-28",
          "2022-04-27",
          "2022-04-26",
          "2022-04-25",
          "2022-04-22",
          "2022-04-21",
          "2022-04-20",
          "2022-04-19",
          "2022-04-18",
          "2022-04-15",
          "2022-04-14",
          "2022-04-13",
          "2022-04-12",
          "2022-04-11",
          "2022-04-08",
          "2022-04-07",
          "2022-04-06",
          "2022-04-05",
          "2022-04-04",
          "2022-04-01",
          "2022-03-31",
          "2022-03-30",
          "2022-03-29",
          "2022-03-28",
          "2022-03-25",
          "2022-03-24",
          "2022-03-23",
          "2022-03-22",
          "2022-03-21",
          "2022-03-18",
          "2022-03-17",
          "2022-03-16",
          "2022-03-15",
          "2022-03-14",
          "2022-03-11",
          "2022-03-10",
          "2022-03-08",
          "2022-03-07",
          "2022-03-04",
          "2022-03-03",
          "2022-03-02",
          "2022-02-28",
          "2022-02-25",
          "2022-02-24",
          "2022-02-23",
          "2022-02-22",
          "2022-02-21",
          "2022-02-18",
          "2022-02-17",
          "2022-02-16",
          "2022-02-15",
          "2022-02-14",
          "2022-02-11",
          "2022-02-10",
          "2022-02-09",
          "2022-02-08",
          "2022-02-07",
          "2022-02-04",
          "2022-02-03",
          "2022-01-28",
          "2022-01-27",
          "2022-01-26",
          "2022-01-25",
          "2022-01-24",
          "2022-01-21",
          "2022-01-20",
          "2022-01-19",
          "2022-01-18",
          "2022-01-17",
          "2022-01-14",
          "2022-01-13",
          "2022-01-12",
          "2022-01-11",
          "2022-01-10",
          "2022-01-07",
          "2022-01-06",
          "2022-01-05",
          "2022-01-04",
          "2022-01-03",
          "2021-12-30",
          "2021-12-29",
          "2021-12-28"
         ],
         "y": [
          "",
          "",
          "",
          "",
          "",
          "",
          "",
          "",
          "",
          "",
          "",
          "",
          "",
          "",
          "",
          "",
          "",
          "",
          "",
          96030,
          95730,
          95470,
          95220,
          94800,
          94185,
          93695,
          93455,
          93130,
          93015,
          93185,
          93380,
          93670,
          93935,
          94370,
          94950,
          95645,
          96220,
          97115,
          98090,
          98940,
          99590,
          100125,
          100525,
          101345,
          102260,
          103300,
          104165,
          104990,
          105845,
          106600,
          107230,
          107900,
          108400,
          108750,
          108975,
          109050,
          109225,
          109350,
          109500,
          109625,
          109900,
          110075,
          110350,
          110500,
          110475,
          110350,
          110375,
          110450,
          110400,
          110225,
          110100,
          109975,
          110175,
          110200,
          110275,
          110500,
          110800,
          110975,
          111300,
          111625,
          111800,
          112225,
          112850,
          113300,
          113800,
          114175,
          114550,
          115100,
          115650,
          116300,
          117100,
          117800,
          117975,
          118050,
          118275,
          118525,
          118850,
          119100,
          119250,
          119625,
          120275,
          120625,
          120750,
          120900,
          121125,
          121650,
          122050,
          122375,
          122775,
          123325,
          123650,
          123800,
          124600,
          125575,
          126250,
          126700,
          126950,
          127200,
          127450,
          127425,
          127000,
          126425,
          126125,
          125875,
          125700,
          125225,
          125050,
          124900,
          124650,
          124350,
          124250,
          124375,
          124175,
          123975,
          123725,
          123775,
          123775,
          123900,
          124100,
          124325,
          124850,
          125525,
          126025
         ],
         "yaxis": "y2"
        },
        {
         "legendgroup": "BOLL(close,20)",
         "line": {
          "color": "rgba(55, 128, 191, 1.0)",
          "dash": "solid",
          "shape": "linear",
          "width": 1.3
         },
         "mode": "lines",
         "name": "BOLL(close,20)",
         "showlegend": true,
         "text": "",
         "type": "scatter",
         "x": [
          "2022-07-27",
          "2022-07-26",
          "2022-07-25",
          "2022-07-22",
          "2022-07-21",
          "2022-07-20",
          "2022-07-19",
          "2022-07-18",
          "2022-07-15",
          "2022-07-14",
          "2022-07-13",
          "2022-07-12",
          "2022-07-11",
          "2022-07-08",
          "2022-07-07",
          "2022-07-06",
          "2022-07-05",
          "2022-07-04",
          "2022-07-01",
          "2022-06-30",
          "2022-06-29",
          "2022-06-28",
          "2022-06-27",
          "2022-06-24",
          "2022-06-23",
          "2022-06-22",
          "2022-06-21",
          "2022-06-20",
          "2022-06-17",
          "2022-06-16",
          "2022-06-15",
          "2022-06-14",
          "2022-06-13",
          "2022-06-10",
          "2022-06-09",
          "2022-06-08",
          "2022-06-07",
          "2022-06-03",
          "2022-06-02",
          "2022-05-31",
          "2022-05-30",
          "2022-05-27",
          "2022-05-26",
          "2022-05-25",
          "2022-05-24",
          "2022-05-23",
          "2022-05-20",
          "2022-05-19",
          "2022-05-18",
          "2022-05-17",
          "2022-05-16",
          "2022-05-13",
          "2022-05-12",
          "2022-05-11",
          "2022-05-10",
          "2022-05-09",
          "2022-05-06",
          "2022-05-04",
          "2022-05-03",
          "2022-05-02",
          "2022-04-29",
          "2022-04-28",
          "2022-04-27",
          "2022-04-26",
          "2022-04-25",
          "2022-04-22",
          "2022-04-21",
          "2022-04-20",
          "2022-04-19",
          "2022-04-18",
          "2022-04-15",
          "2022-04-14",
          "2022-04-13",
          "2022-04-12",
          "2022-04-11",
          "2022-04-08",
          "2022-04-07",
          "2022-04-06",
          "2022-04-05",
          "2022-04-04",
          "2022-04-01",
          "2022-03-31",
          "2022-03-30",
          "2022-03-29",
          "2022-03-28",
          "2022-03-25",
          "2022-03-24",
          "2022-03-23",
          "2022-03-22",
          "2022-03-21",
          "2022-03-18",
          "2022-03-17",
          "2022-03-16",
          "2022-03-15",
          "2022-03-14",
          "2022-03-11",
          "2022-03-10",
          "2022-03-08",
          "2022-03-07",
          "2022-03-04",
          "2022-03-03",
          "2022-03-02",
          "2022-02-28",
          "2022-02-25",
          "2022-02-24",
          "2022-02-23",
          "2022-02-22",
          "2022-02-21",
          "2022-02-18",
          "2022-02-17",
          "2022-02-16",
          "2022-02-15",
          "2022-02-14",
          "2022-02-11",
          "2022-02-10",
          "2022-02-09",
          "2022-02-08",
          "2022-02-07",
          "2022-02-04",
          "2022-02-03",
          "2022-01-28",
          "2022-01-27",
          "2022-01-26",
          "2022-01-25",
          "2022-01-24",
          "2022-01-21",
          "2022-01-20",
          "2022-01-19",
          "2022-01-18",
          "2022-01-17",
          "2022-01-14",
          "2022-01-13",
          "2022-01-12",
          "2022-01-11",
          "2022-01-10",
          "2022-01-07",
          "2022-01-06",
          "2022-01-05",
          "2022-01-04",
          "2022-01-03",
          "2021-12-30",
          "2021-12-29",
          "2021-12-28"
         ],
         "y": [
          "",
          "",
          "",
          "",
          "",
          "",
          "",
          "",
          "",
          "",
          "",
          "",
          "",
          "",
          "",
          "",
          "",
          "",
          "",
          96030,
          95730,
          95470,
          95220,
          94800,
          94185,
          93695,
          93455,
          93130,
          93015,
          93185,
          93380,
          93670,
          93935,
          94370,
          94950,
          95645,
          96220,
          97115,
          98090,
          98940,
          99590,
          100125,
          100525,
          101345,
          102260,
          103300,
          104165,
          104990,
          105845,
          106600,
          107230,
          107900,
          108400,
          108750,
          108975,
          109050,
          109225,
          109350,
          109500,
          109625,
          109900,
          110075,
          110350,
          110500,
          110475,
          110350,
          110375,
          110450,
          110400,
          110225,
          110100,
          109975,
          110175,
          110200,
          110275,
          110500,
          110800,
          110975,
          111300,
          111625,
          111800,
          112225,
          112850,
          113300,
          113800,
          114175,
          114550,
          115100,
          115650,
          116300,
          117100,
          117800,
          117975,
          118050,
          118275,
          118525,
          118850,
          119100,
          119250,
          119625,
          120275,
          120625,
          120750,
          120900,
          121125,
          121650,
          122050,
          122375,
          122775,
          123325,
          123650,
          123800,
          124600,
          125575,
          126250,
          126700,
          126950,
          127200,
          127450,
          127425,
          127000,
          126425,
          126125,
          125875,
          125700,
          125225,
          125050,
          124900,
          124650,
          124350,
          124250,
          124375,
          124175,
          123975,
          123725,
          123775,
          123775,
          123900,
          124100,
          124325,
          124850,
          125525,
          126025
         ],
         "yaxis": "y2"
        },
        {
         "legendgroup": "BOLL(close,20)",
         "line": {
          "color": "rgba(55, 128, 191, 0.8999999999999999)",
          "dash": "solid",
          "shape": "linear",
          "width": 1.3
         },
         "mode": "lines",
         "name": "UPPER(close,20)",
         "showlegend": false,
         "text": "",
         "type": "scatter",
         "x": [
          "2022-07-27",
          "2022-07-26",
          "2022-07-25",
          "2022-07-22",
          "2022-07-21",
          "2022-07-20",
          "2022-07-19",
          "2022-07-18",
          "2022-07-15",
          "2022-07-14",
          "2022-07-13",
          "2022-07-12",
          "2022-07-11",
          "2022-07-08",
          "2022-07-07",
          "2022-07-06",
          "2022-07-05",
          "2022-07-04",
          "2022-07-01",
          "2022-06-30",
          "2022-06-29",
          "2022-06-28",
          "2022-06-27",
          "2022-06-24",
          "2022-06-23",
          "2022-06-22",
          "2022-06-21",
          "2022-06-20",
          "2022-06-17",
          "2022-06-16",
          "2022-06-15",
          "2022-06-14",
          "2022-06-13",
          "2022-06-10",
          "2022-06-09",
          "2022-06-08",
          "2022-06-07",
          "2022-06-03",
          "2022-06-02",
          "2022-05-31",
          "2022-05-30",
          "2022-05-27",
          "2022-05-26",
          "2022-05-25",
          "2022-05-24",
          "2022-05-23",
          "2022-05-20",
          "2022-05-19",
          "2022-05-18",
          "2022-05-17",
          "2022-05-16",
          "2022-05-13",
          "2022-05-12",
          "2022-05-11",
          "2022-05-10",
          "2022-05-09",
          "2022-05-06",
          "2022-05-04",
          "2022-05-03",
          "2022-05-02",
          "2022-04-29",
          "2022-04-28",
          "2022-04-27",
          "2022-04-26",
          "2022-04-25",
          "2022-04-22",
          "2022-04-21",
          "2022-04-20",
          "2022-04-19",
          "2022-04-18",
          "2022-04-15",
          "2022-04-14",
          "2022-04-13",
          "2022-04-12",
          "2022-04-11",
          "2022-04-08",
          "2022-04-07",
          "2022-04-06",
          "2022-04-05",
          "2022-04-04",
          "2022-04-01",
          "2022-03-31",
          "2022-03-30",
          "2022-03-29",
          "2022-03-28",
          "2022-03-25",
          "2022-03-24",
          "2022-03-23",
          "2022-03-22",
          "2022-03-21",
          "2022-03-18",
          "2022-03-17",
          "2022-03-16",
          "2022-03-15",
          "2022-03-14",
          "2022-03-11",
          "2022-03-10",
          "2022-03-08",
          "2022-03-07",
          "2022-03-04",
          "2022-03-03",
          "2022-03-02",
          "2022-02-28",
          "2022-02-25",
          "2022-02-24",
          "2022-02-23",
          "2022-02-22",
          "2022-02-21",
          "2022-02-18",
          "2022-02-17",
          "2022-02-16",
          "2022-02-15",
          "2022-02-14",
          "2022-02-11",
          "2022-02-10",
          "2022-02-09",
          "2022-02-08",
          "2022-02-07",
          "2022-02-04",
          "2022-02-03",
          "2022-01-28",
          "2022-01-27",
          "2022-01-26",
          "2022-01-25",
          "2022-01-24",
          "2022-01-21",
          "2022-01-20",
          "2022-01-19",
          "2022-01-18",
          "2022-01-17",
          "2022-01-14",
          "2022-01-13",
          "2022-01-12",
          "2022-01-11",
          "2022-01-10",
          "2022-01-07",
          "2022-01-06",
          "2022-01-05",
          "2022-01-04",
          "2022-01-03",
          "2021-12-30",
          "2021-12-29",
          "2021-12-28"
         ],
         "y": [
          "",
          "",
          "",
          "",
          "",
          "",
          "",
          "",
          "",
          "",
          "",
          "",
          "",
          "",
          "",
          "",
          "",
          "",
          "",
          105132.01828399094,
          104675.2368978074,
          104129.18435444185,
          103613.13002275953,
          103024.99400095765,
          101802.78390209038,
          100402.56838833645,
          99525.97494988286,
          98095.60803506426,
          97522.89949918327,
          98088.39302502816,
          98711.37683411785,
          99582.3777388049,
          100310.04179552862,
          102047.74637987504,
          104091.34620973933,
          105917.59512130775,
          107024.98910104421,
          108391.85566477689,
          109237.79185120958,
          110399.65922153377,
          111340.9059001289,
          112026.8574401778,
          112237.85843129587,
          112718.37148550809,
          112769.82497725969,
          113734.55796859646,
          114640.49019076636,
          114840.86691349388,
          115523.51119477414,
          115851.11657556734,
          115666.78661701555,
          115724.38832315849,
          115014.17934599998,
          115003.42011685563,
          115057.54621199482,
          115013.92664715383,
          114754.5854988845,
          114779.93651218094,
          114821.25826038205,
          114915.25917184245,
          115187.52255189915,
          115040.93660005738,
          114135.01199330646,
          114127.38125055005,
          114166.7404253849,
          113845.86221576008,
          113942.02736329935,
          114133.53377242989,
          113933.30023155629,
          113665.85362725741,
          113677.70876399966,
          113369.65524177733,
          113791.8465473902,
          113833.18042491698,
          113952.45621463074,
          114009.3859111936,
          114254.97353177461,
          114506.43775700194,
          115572.30986457529,
          116576.07643798162,
          117115.32045872565,
          118096.20538148504,
          119640.86073143045,
          120736.75084683458,
          121079.38690304414,
          121511.10394232739,
          122383.12803015769,
          123821.41948852001,
          125042.6062747024,
          125553.16446582352,
          126094.73530226959,
          126646.05175086306,
          126555.73116747175,
          126397.07638700679,
          126105.27189149501,
          125812.15524597543,
          125763.75440697744,
          125462.72037153259,
          125494.9979983984,
          126193.46533385883,
          127831.62832081526,
          128383.69630937134,
          128613.9751565705,
          128818.0008109437,
          128951.23792124925,
          129985.71895677366,
          130904.97184161471,
          131905.4222030517,
          133139.2858438308,
          134639.98773169555,
          135411.2208460463,
          135656.1554077463,
          136541.08343845778,
          136497.09253134023,
          136315.57447310805,
          135780.92274467397,
          135514.92234272102,
          134914.64772194324,
          134400.1987854949,
          134423.30806620241,
          134601.93881086993,
          136116.4232293573,
          136541.9649080112,
          136833.65435458013,
          136992.2889386379,
          136816.62583392355,
          136538.6671848483,
          136193.22106864394,
          135542.29568379218,
          134584.6161833775,
          134268.40411705535,
          134598.16770354164,
          133871.8524464602,
          133142.87870774913,
          132523.77383802037,
          132639.32827626966,
          132639.32827626966,
          132788.78654911846,
          133222.55735150943,
          133656.751119022,
          134453.17929810638,
          133534.69806908444,
          133121.88589972278
         ],
         "yaxis": "y2"
        },
        {
         "fill": "tonexty",
         "fillcolor": "rgba(55, 128, 191, 0.1)",
         "legendgroup": "BOLL(close,20)",
         "line": {
          "color": "rgba(55, 128, 191, 0.7999999999999998)",
          "dash": "solid",
          "shape": "linear",
          "width": 1.3
         },
         "mode": "lines",
         "name": "LOWER(close,20)",
         "showlegend": false,
         "text": "",
         "type": "scatter",
         "x": [
          "2022-07-27",
          "2022-07-26",
          "2022-07-25",
          "2022-07-22",
          "2022-07-21",
          "2022-07-20",
          "2022-07-19",
          "2022-07-18",
          "2022-07-15",
          "2022-07-14",
          "2022-07-13",
          "2022-07-12",
          "2022-07-11",
          "2022-07-08",
          "2022-07-07",
          "2022-07-06",
          "2022-07-05",
          "2022-07-04",
          "2022-07-01",
          "2022-06-30",
          "2022-06-29",
          "2022-06-28",
          "2022-06-27",
          "2022-06-24",
          "2022-06-23",
          "2022-06-22",
          "2022-06-21",
          "2022-06-20",
          "2022-06-17",
          "2022-06-16",
          "2022-06-15",
          "2022-06-14",
          "2022-06-13",
          "2022-06-10",
          "2022-06-09",
          "2022-06-08",
          "2022-06-07",
          "2022-06-03",
          "2022-06-02",
          "2022-05-31",
          "2022-05-30",
          "2022-05-27",
          "2022-05-26",
          "2022-05-25",
          "2022-05-24",
          "2022-05-23",
          "2022-05-20",
          "2022-05-19",
          "2022-05-18",
          "2022-05-17",
          "2022-05-16",
          "2022-05-13",
          "2022-05-12",
          "2022-05-11",
          "2022-05-10",
          "2022-05-09",
          "2022-05-06",
          "2022-05-04",
          "2022-05-03",
          "2022-05-02",
          "2022-04-29",
          "2022-04-28",
          "2022-04-27",
          "2022-04-26",
          "2022-04-25",
          "2022-04-22",
          "2022-04-21",
          "2022-04-20",
          "2022-04-19",
          "2022-04-18",
          "2022-04-15",
          "2022-04-14",
          "2022-04-13",
          "2022-04-12",
          "2022-04-11",
          "2022-04-08",
          "2022-04-07",
          "2022-04-06",
          "2022-04-05",
          "2022-04-04",
          "2022-04-01",
          "2022-03-31",
          "2022-03-30",
          "2022-03-29",
          "2022-03-28",
          "2022-03-25",
          "2022-03-24",
          "2022-03-23",
          "2022-03-22",
          "2022-03-21",
          "2022-03-18",
          "2022-03-17",
          "2022-03-16",
          "2022-03-15",
          "2022-03-14",
          "2022-03-11",
          "2022-03-10",
          "2022-03-08",
          "2022-03-07",
          "2022-03-04",
          "2022-03-03",
          "2022-03-02",
          "2022-02-28",
          "2022-02-25",
          "2022-02-24",
          "2022-02-23",
          "2022-02-22",
          "2022-02-21",
          "2022-02-18",
          "2022-02-17",
          "2022-02-16",
          "2022-02-15",
          "2022-02-14",
          "2022-02-11",
          "2022-02-10",
          "2022-02-09",
          "2022-02-08",
          "2022-02-07",
          "2022-02-04",
          "2022-02-03",
          "2022-01-28",
          "2022-01-27",
          "2022-01-26",
          "2022-01-25",
          "2022-01-24",
          "2022-01-21",
          "2022-01-20",
          "2022-01-19",
          "2022-01-18",
          "2022-01-17",
          "2022-01-14",
          "2022-01-13",
          "2022-01-12",
          "2022-01-11",
          "2022-01-10",
          "2022-01-07",
          "2022-01-06",
          "2022-01-05",
          "2022-01-04",
          "2022-01-03",
          "2021-12-30",
          "2021-12-29",
          "2021-12-28"
         ],
         "y": [
          "",
          "",
          "",
          "",
          "",
          "",
          "",
          "",
          "",
          "",
          "",
          "",
          "",
          "",
          "",
          "",
          "",
          "",
          "",
          86927.98171600906,
          86784.7631021926,
          86810.81564555815,
          86826.86997724047,
          86575.00599904235,
          86567.21609790962,
          86987.43161166355,
          87384.02505011714,
          88164.39196493574,
          88507.10050081673,
          88281.60697497184,
          88048.62316588215,
          87757.6222611951,
          87559.95820447138,
          86692.25362012496,
          85808.65379026067,
          85372.40487869225,
          85415.01089895579,
          85838.14433522311,
          86942.20814879042,
          87480.34077846623,
          87839.0940998711,
          88223.1425598222,
          88812.14156870413,
          89971.62851449191,
          91750.17502274031,
          92865.44203140354,
          93689.50980923364,
          95139.13308650612,
          96166.48880522586,
          97348.88342443266,
          98793.21338298445,
          100075.61167684151,
          101785.82065400002,
          102496.57988314437,
          102892.45378800518,
          103086.07335284617,
          103695.4145011155,
          103920.06348781906,
          104178.74173961795,
          104334.74082815755,
          104612.47744810085,
          105109.06339994262,
          106564.98800669354,
          106872.61874944995,
          106783.2595746151,
          106854.13778423992,
          106807.97263670065,
          106766.46622757011,
          106866.69976844371,
          106784.14637274259,
          106522.29123600034,
          106580.34475822267,
          106558.1534526098,
          106566.81957508302,
          106597.54378536926,
          106990.6140888064,
          107345.02646822539,
          107443.56224299806,
          107027.69013542471,
          106673.92356201838,
          106484.67954127435,
          106353.79461851496,
          106059.13926856955,
          105863.24915316542,
          106520.61309695586,
          106838.89605767261,
          106716.87196984231,
          106378.58051147999,
          106257.3937252976,
          107046.83553417648,
          108105.26469773041,
          108953.94824913694,
          109394.26883252825,
          109702.92361299321,
          110444.72810850499,
          111237.84475402457,
          111936.24559302256,
          112737.27962846741,
          113005.0020016016,
          113056.53466614117,
          112718.37167918474,
          112866.30369062866,
          112886.0248434295,
          112981.9991890563,
          113298.76207875075,
          113314.28104322634,
          113195.02815838529,
          112844.57779694829,
          112410.7141561692,
          112010.01226830445,
          111888.77915395371,
          111943.8445922537,
          112658.91656154222,
          114652.90746865977,
          116184.42552689197,
          117619.07725532605,
          118385.07765727896,
          119485.35227805676,
          120499.8012145051,
          120426.6919337976,
          119398.06118913008,
          116733.5767706427,
          115708.0350919888,
          114916.34564541987,
          114407.71106136209,
          113633.37416607644,
          113561.33281515169,
          113606.77893135606,
          113757.70431620782,
          114115.3838166225,
          114231.59588294465,
          114151.83229645836,
          114478.1475535398,
          114807.12129225087,
          114926.22616197963,
          114910.67172373035,
          114910.67172373035,
          115011.21345088154,
          114977.44264849056,
          114993.248880978,
          115246.82070189362,
          117515.30193091558,
          118928.1141002772
         ],
         "yaxis": "y2"
        },
        {
         "close": [
          100000,
          100500,
          100000,
          100000,
          102500,
          102000,
          100000,
          101000,
          98700,
          94000,
          94000,
          93300,
          93700,
          94800,
          93900,
          92100,
          92500,
          89100,
          87500,
          91000,
          94000,
          95300,
          95000,
          91600,
          90200,
          92200,
          95200,
          94500,
          96400,
          97400,
          97900,
          99100,
          99000,
          103500,
          105500,
          106000,
          104000,
          107000,
          107000,
          108000,
          107000,
          106000,
          103000,
          108000,
          108500,
          113000,
          112500,
          111000,
          113500,
          112500,
          110500,
          112500,
          109000,
          110500,
          110000,
          107500,
          107500,
          109500,
          110000,
          110500,
          112500,
          109500,
          108500,
          111000,
          108000,
          110500,
          113000,
          112500,
          112500,
          109000,
          108000,
          110000,
          113000,
          111000,
          111500,
          112000,
          113500,
          113000,
          116500,
          117000,
          116000,
          118000,
          121000,
          120000,
          118000,
          118000,
          120500,
          123500,
          123500,
          122000,
          124000,
          124000,
          116500,
          112500,
          116000,
          117000,
          120000,
          118000,
          119500,
          124500,
          129000,
          125000,
          123500,
          123000,
          122500,
          128500,
          128500,
          130000,
          131500,
          133000,
          130500,
          127000,
          132500,
          132000,
          129500,
          126000,
          125000,
          123000,
          124500,
          124000,
          120500,
          113500,
          117500,
          118000,
          119000,
          119000,
          125000,
          127000,
          126500,
          127000,
          128500,
          129500,
          128500,
          128000,
          124500,
          127000,
          125000,
          125500,
          128500,
          128500,
          131000,
          127000,
          127500
         ],
         "decreasing": {
          "line": {
           "color": "#808080"
          }
         },
         "high": [
          101500,
          101000,
          101500,
          102500,
          103000,
          104500,
          100500,
          103500,
          99000,
          95500,
          96400,
          94000,
          95700,
          96500,
          95200,
          93600,
          93400,
          89600,
          92500,
          93100,
          94900,
          95300,
          96100,
          92000,
          93000,
          95700,
          95900,
          96800,
          96400,
          101500,
          98900,
          99600,
          101000,
          104500,
          107000,
          107500,
          106000,
          108500,
          107500,
          108000,
          108000,
          107000,
          108500,
          110000,
          112000,
          113500,
          113000,
          112500,
          115000,
          113000,
          114000,
          112500,
          111500,
          112500,
          111000,
          109000,
          108500,
          111000,
          112000,
          111500,
          112500,
          110000,
          109500,
          111000,
          109500,
          112000,
          115000,
          113000,
          112500,
          109500,
          108500,
          113000,
          113000,
          113000,
          113000,
          114000,
          114500,
          115500,
          118000,
          117500,
          117500,
          120000,
          123000,
          120500,
          119500,
          123000,
          122000,
          124500,
          124000,
          124500,
          125000,
          124500,
          117000,
          115500,
          117000,
          119000,
          121500,
          119500,
          121000,
          128000,
          129500,
          126500,
          123500,
          126000,
          126000,
          130500,
          129500,
          130500,
          133000,
          134000,
          132500,
          132000,
          132500,
          132500,
          131000,
          128000,
          126000,
          123500,
          127000,
          127000,
          121500,
          119500,
          119500,
          120000,
          120500,
          122500,
          126500,
          128500,
          127500,
          128000,
          129000,
          130000,
          130000,
          128500,
          127000,
          129000,
          127000,
          129000,
          130000,
          132500,
          133500,
          128500,
          128000
         ],
         "increasing": {
          "line": {
           "color": "#17BECF"
          }
         },
         "low": [
          98600,
          99100,
          98900,
          100000,
          100500,
          101000,
          98700,
          100000,
          95500,
          92300,
          93800,
          91700,
          93500,
          94500,
          91300,
          90900,
          90400,
          86300,
          87100,
          91000,
          92900,
          93700,
          92600,
          90500,
          89700,
          91700,
          93900,
          93100,
          95000,
          97100,
          96700,
          96800,
          99000,
          102500,
          104500,
          104500,
          103500,
          107000,
          106000,
          105500,
          106000,
          105000,
          101500,
          107000,
          108500,
          111000,
          111000,
          110000,
          113000,
          110500,
          110000,
          109000,
          108500,
          108000,
          107000,
          106500,
          106500,
          108500,
          109500,
          110000,
          109500,
          108000,
          107500,
          108000,
          108000,
          110500,
          112500,
          111000,
          109500,
          106500,
          107000,
          110000,
          111000,
          110500,
          110500,
          110500,
          110500,
          113000,
          116000,
          114500,
          116000,
          117500,
          120500,
          118500,
          116500,
          118000,
          119500,
          122000,
          121000,
          121000,
          121000,
          121000,
          114000,
          112000,
          114500,
          115500,
          118500,
          116500,
          119000,
          124000,
          127000,
          123000,
          121000,
          122500,
          122000,
          127000,
          126000,
          127000,
          129500,
          130000,
          130000,
          127000,
          129500,
          130000,
          127000,
          124500,
          123500,
          119500,
          124000,
          124000,
          114500,
          111000,
          117500,
          116500,
          116500,
          118000,
          123500,
          123500,
          125000,
          124500,
          126000,
          128000,
          126500,
          124500,
          123000,
          126500,
          123000,
          121500,
          127500,
          128000,
          130000,
          125500,
          124500
         ],
         "name": "SK하이닉스",
         "open": [
          101000,
          100500,
          99100,
          102500,
          102000,
          103000,
          100000,
          101000,
          95900,
          92800,
          94600,
          94000,
          95000,
          95900,
          91300,
          92800,
          90400,
          87500,
          91000,
          91500,
          93300,
          94500,
          92700,
          90500,
          92100,
          95700,
          94700,
          96700,
          95100,
          99900,
          98500,
          96900,
          100000,
          104000,
          105500,
          104500,
          105500,
          108000,
          106000,
          106500,
          108000,
          105500,
          107500,
          109500,
          111500,
          113000,
          111500,
          110500,
          114000,
          111000,
          113500,
          109000,
          109500,
          110500,
          107000,
          107000,
          108000,
          110500,
          111000,
          110000,
          110000,
          109500,
          108000,
          109500,
          109000,
          110500,
          112500,
          112500,
          110000,
          107000,
          108000,
          113000,
          112000,
          110500,
          111000,
          113000,
          111500,
          114500,
          117500,
          115000,
          117000,
          119500,
          123000,
          119500,
          117500,
          122000,
          121000,
          124000,
          121000,
          124000,
          124000,
          121000,
          115000,
          114500,
          115500,
          118500,
          121000,
          117000,
          119000,
          127500,
          128000,
          124500,
          123000,
          125500,
          125500,
          130000,
          127000,
          129000,
          131500,
          130500,
          131000,
          131500,
          130000,
          130500,
          129000,
          127000,
          124500,
          123000,
          125500,
          124500,
          115000,
          119500,
          119000,
          118000,
          116500,
          121500,
          126000,
          123500,
          126500,
          127500,
          128500,
          128500,
          129500,
          125500,
          126500,
          127000,
          123500,
          129000,
          129500,
          132000,
          131000,
          127500,
          126500
         ],
         "showlegend": true,
         "type": "candlestick",
         "x": [
          "2022-07-27",
          "2022-07-26",
          "2022-07-25",
          "2022-07-22",
          "2022-07-21",
          "2022-07-20",
          "2022-07-19",
          "2022-07-18",
          "2022-07-15",
          "2022-07-14",
          "2022-07-13",
          "2022-07-12",
          "2022-07-11",
          "2022-07-08",
          "2022-07-07",
          "2022-07-06",
          "2022-07-05",
          "2022-07-04",
          "2022-07-01",
          "2022-06-30",
          "2022-06-29",
          "2022-06-28",
          "2022-06-27",
          "2022-06-24",
          "2022-06-23",
          "2022-06-22",
          "2022-06-21",
          "2022-06-20",
          "2022-06-17",
          "2022-06-16",
          "2022-06-15",
          "2022-06-14",
          "2022-06-13",
          "2022-06-10",
          "2022-06-09",
          "2022-06-08",
          "2022-06-07",
          "2022-06-03",
          "2022-06-02",
          "2022-05-31",
          "2022-05-30",
          "2022-05-27",
          "2022-05-26",
          "2022-05-25",
          "2022-05-24",
          "2022-05-23",
          "2022-05-20",
          "2022-05-19",
          "2022-05-18",
          "2022-05-17",
          "2022-05-16",
          "2022-05-13",
          "2022-05-12",
          "2022-05-11",
          "2022-05-10",
          "2022-05-09",
          "2022-05-06",
          "2022-05-04",
          "2022-05-03",
          "2022-05-02",
          "2022-04-29",
          "2022-04-28",
          "2022-04-27",
          "2022-04-26",
          "2022-04-25",
          "2022-04-22",
          "2022-04-21",
          "2022-04-20",
          "2022-04-19",
          "2022-04-18",
          "2022-04-15",
          "2022-04-14",
          "2022-04-13",
          "2022-04-12",
          "2022-04-11",
          "2022-04-08",
          "2022-04-07",
          "2022-04-06",
          "2022-04-05",
          "2022-04-04",
          "2022-04-01",
          "2022-03-31",
          "2022-03-30",
          "2022-03-29",
          "2022-03-28",
          "2022-03-25",
          "2022-03-24",
          "2022-03-23",
          "2022-03-22",
          "2022-03-21",
          "2022-03-18",
          "2022-03-17",
          "2022-03-16",
          "2022-03-15",
          "2022-03-14",
          "2022-03-11",
          "2022-03-10",
          "2022-03-08",
          "2022-03-07",
          "2022-03-04",
          "2022-03-03",
          "2022-03-02",
          "2022-02-28",
          "2022-02-25",
          "2022-02-24",
          "2022-02-23",
          "2022-02-22",
          "2022-02-21",
          "2022-02-18",
          "2022-02-17",
          "2022-02-16",
          "2022-02-15",
          "2022-02-14",
          "2022-02-11",
          "2022-02-10",
          "2022-02-09",
          "2022-02-08",
          "2022-02-07",
          "2022-02-04",
          "2022-02-03",
          "2022-01-28",
          "2022-01-27",
          "2022-01-26",
          "2022-01-25",
          "2022-01-24",
          "2022-01-21",
          "2022-01-20",
          "2022-01-19",
          "2022-01-18",
          "2022-01-17",
          "2022-01-14",
          "2022-01-13",
          "2022-01-12",
          "2022-01-11",
          "2022-01-10",
          "2022-01-07",
          "2022-01-06",
          "2022-01-05",
          "2022-01-04",
          "2022-01-03",
          "2021-12-30",
          "2021-12-29",
          "2021-12-28"
         ],
         "yaxis": "y2"
        }
       ],
       "layout": {
        "legend": {
         "bgcolor": "#F5F6F9",
         "font": {
          "color": "#4D5663"
         }
        },
        "margin": {
         "b": 30,
         "l": 30,
         "r": 30,
         "t": 30
        },
        "paper_bgcolor": "#F5F6F9",
        "plot_bgcolor": "#F5F6F9",
        "showlegend": true,
        "template": {
         "data": {
          "bar": [
           {
            "error_x": {
             "color": "#2a3f5f"
            },
            "error_y": {
             "color": "#2a3f5f"
            },
            "marker": {
             "line": {
              "color": "#E5ECF6",
              "width": 0.5
             },
             "pattern": {
              "fillmode": "overlay",
              "size": 10,
              "solidity": 0.2
             }
            },
            "type": "bar"
           }
          ],
          "barpolar": [
           {
            "marker": {
             "line": {
              "color": "#E5ECF6",
              "width": 0.5
             },
             "pattern": {
              "fillmode": "overlay",
              "size": 10,
              "solidity": 0.2
             }
            },
            "type": "barpolar"
           }
          ],
          "carpet": [
           {
            "aaxis": {
             "endlinecolor": "#2a3f5f",
             "gridcolor": "white",
             "linecolor": "white",
             "minorgridcolor": "white",
             "startlinecolor": "#2a3f5f"
            },
            "baxis": {
             "endlinecolor": "#2a3f5f",
             "gridcolor": "white",
             "linecolor": "white",
             "minorgridcolor": "white",
             "startlinecolor": "#2a3f5f"
            },
            "type": "carpet"
           }
          ],
          "choropleth": [
           {
            "colorbar": {
             "outlinewidth": 0,
             "ticks": ""
            },
            "type": "choropleth"
           }
          ],
          "contour": [
           {
            "colorbar": {
             "outlinewidth": 0,
             "ticks": ""
            },
            "colorscale": [
             [
              0,
              "#0d0887"
             ],
             [
              0.1111111111111111,
              "#46039f"
             ],
             [
              0.2222222222222222,
              "#7201a8"
             ],
             [
              0.3333333333333333,
              "#9c179e"
             ],
             [
              0.4444444444444444,
              "#bd3786"
             ],
             [
              0.5555555555555556,
              "#d8576b"
             ],
             [
              0.6666666666666666,
              "#ed7953"
             ],
             [
              0.7777777777777778,
              "#fb9f3a"
             ],
             [
              0.8888888888888888,
              "#fdca26"
             ],
             [
              1,
              "#f0f921"
             ]
            ],
            "type": "contour"
           }
          ],
          "contourcarpet": [
           {
            "colorbar": {
             "outlinewidth": 0,
             "ticks": ""
            },
            "type": "contourcarpet"
           }
          ],
          "heatmap": [
           {
            "colorbar": {
             "outlinewidth": 0,
             "ticks": ""
            },
            "colorscale": [
             [
              0,
              "#0d0887"
             ],
             [
              0.1111111111111111,
              "#46039f"
             ],
             [
              0.2222222222222222,
              "#7201a8"
             ],
             [
              0.3333333333333333,
              "#9c179e"
             ],
             [
              0.4444444444444444,
              "#bd3786"
             ],
             [
              0.5555555555555556,
              "#d8576b"
             ],
             [
              0.6666666666666666,
              "#ed7953"
             ],
             [
              0.7777777777777778,
              "#fb9f3a"
             ],
             [
              0.8888888888888888,
              "#fdca26"
             ],
             [
              1,
              "#f0f921"
             ]
            ],
            "type": "heatmap"
           }
          ],
          "heatmapgl": [
           {
            "colorbar": {
             "outlinewidth": 0,
             "ticks": ""
            },
            "colorscale": [
             [
              0,
              "#0d0887"
             ],
             [
              0.1111111111111111,
              "#46039f"
             ],
             [
              0.2222222222222222,
              "#7201a8"
             ],
             [
              0.3333333333333333,
              "#9c179e"
             ],
             [
              0.4444444444444444,
              "#bd3786"
             ],
             [
              0.5555555555555556,
              "#d8576b"
             ],
             [
              0.6666666666666666,
              "#ed7953"
             ],
             [
              0.7777777777777778,
              "#fb9f3a"
             ],
             [
              0.8888888888888888,
              "#fdca26"
             ],
             [
              1,
              "#f0f921"
             ]
            ],
            "type": "heatmapgl"
           }
          ],
          "histogram": [
           {
            "marker": {
             "pattern": {
              "fillmode": "overlay",
              "size": 10,
              "solidity": 0.2
             }
            },
            "type": "histogram"
           }
          ],
          "histogram2d": [
           {
            "colorbar": {
             "outlinewidth": 0,
             "ticks": ""
            },
            "colorscale": [
             [
              0,
              "#0d0887"
             ],
             [
              0.1111111111111111,
              "#46039f"
             ],
             [
              0.2222222222222222,
              "#7201a8"
             ],
             [
              0.3333333333333333,
              "#9c179e"
             ],
             [
              0.4444444444444444,
              "#bd3786"
             ],
             [
              0.5555555555555556,
              "#d8576b"
             ],
             [
              0.6666666666666666,
              "#ed7953"
             ],
             [
              0.7777777777777778,
              "#fb9f3a"
             ],
             [
              0.8888888888888888,
              "#fdca26"
             ],
             [
              1,
              "#f0f921"
             ]
            ],
            "type": "histogram2d"
           }
          ],
          "histogram2dcontour": [
           {
            "colorbar": {
             "outlinewidth": 0,
             "ticks": ""
            },
            "colorscale": [
             [
              0,
              "#0d0887"
             ],
             [
              0.1111111111111111,
              "#46039f"
             ],
             [
              0.2222222222222222,
              "#7201a8"
             ],
             [
              0.3333333333333333,
              "#9c179e"
             ],
             [
              0.4444444444444444,
              "#bd3786"
             ],
             [
              0.5555555555555556,
              "#d8576b"
             ],
             [
              0.6666666666666666,
              "#ed7953"
             ],
             [
              0.7777777777777778,
              "#fb9f3a"
             ],
             [
              0.8888888888888888,
              "#fdca26"
             ],
             [
              1,
              "#f0f921"
             ]
            ],
            "type": "histogram2dcontour"
           }
          ],
          "mesh3d": [
           {
            "colorbar": {
             "outlinewidth": 0,
             "ticks": ""
            },
            "type": "mesh3d"
           }
          ],
          "parcoords": [
           {
            "line": {
             "colorbar": {
              "outlinewidth": 0,
              "ticks": ""
             }
            },
            "type": "parcoords"
           }
          ],
          "pie": [
           {
            "automargin": true,
            "type": "pie"
           }
          ],
          "scatter": [
           {
            "marker": {
             "colorbar": {
              "outlinewidth": 0,
              "ticks": ""
             }
            },
            "type": "scatter"
           }
          ],
          "scatter3d": [
           {
            "line": {
             "colorbar": {
              "outlinewidth": 0,
              "ticks": ""
             }
            },
            "marker": {
             "colorbar": {
              "outlinewidth": 0,
              "ticks": ""
             }
            },
            "type": "scatter3d"
           }
          ],
          "scattercarpet": [
           {
            "marker": {
             "colorbar": {
              "outlinewidth": 0,
              "ticks": ""
             }
            },
            "type": "scattercarpet"
           }
          ],
          "scattergeo": [
           {
            "marker": {
             "colorbar": {
              "outlinewidth": 0,
              "ticks": ""
             }
            },
            "type": "scattergeo"
           }
          ],
          "scattergl": [
           {
            "marker": {
             "colorbar": {
              "outlinewidth": 0,
              "ticks": ""
             }
            },
            "type": "scattergl"
           }
          ],
          "scattermapbox": [
           {
            "marker": {
             "colorbar": {
              "outlinewidth": 0,
              "ticks": ""
             }
            },
            "type": "scattermapbox"
           }
          ],
          "scatterpolar": [
           {
            "marker": {
             "colorbar": {
              "outlinewidth": 0,
              "ticks": ""
             }
            },
            "type": "scatterpolar"
           }
          ],
          "scatterpolargl": [
           {
            "marker": {
             "colorbar": {
              "outlinewidth": 0,
              "ticks": ""
             }
            },
            "type": "scatterpolargl"
           }
          ],
          "scatterternary": [
           {
            "marker": {
             "colorbar": {
              "outlinewidth": 0,
              "ticks": ""
             }
            },
            "type": "scatterternary"
           }
          ],
          "surface": [
           {
            "colorbar": {
             "outlinewidth": 0,
             "ticks": ""
            },
            "colorscale": [
             [
              0,
              "#0d0887"
             ],
             [
              0.1111111111111111,
              "#46039f"
             ],
             [
              0.2222222222222222,
              "#7201a8"
             ],
             [
              0.3333333333333333,
              "#9c179e"
             ],
             [
              0.4444444444444444,
              "#bd3786"
             ],
             [
              0.5555555555555556,
              "#d8576b"
             ],
             [
              0.6666666666666666,
              "#ed7953"
             ],
             [
              0.7777777777777778,
              "#fb9f3a"
             ],
             [
              0.8888888888888888,
              "#fdca26"
             ],
             [
              1,
              "#f0f921"
             ]
            ],
            "type": "surface"
           }
          ],
          "table": [
           {
            "cells": {
             "fill": {
              "color": "#EBF0F8"
             },
             "line": {
              "color": "white"
             }
            },
            "header": {
             "fill": {
              "color": "#C8D4E3"
             },
             "line": {
              "color": "white"
             }
            },
            "type": "table"
           }
          ]
         },
         "layout": {
          "annotationdefaults": {
           "arrowcolor": "#2a3f5f",
           "arrowhead": 0,
           "arrowwidth": 1
          },
          "autotypenumbers": "strict",
          "coloraxis": {
           "colorbar": {
            "outlinewidth": 0,
            "ticks": ""
           }
          },
          "colorscale": {
           "diverging": [
            [
             0,
             "#8e0152"
            ],
            [
             0.1,
             "#c51b7d"
            ],
            [
             0.2,
             "#de77ae"
            ],
            [
             0.3,
             "#f1b6da"
            ],
            [
             0.4,
             "#fde0ef"
            ],
            [
             0.5,
             "#f7f7f7"
            ],
            [
             0.6,
             "#e6f5d0"
            ],
            [
             0.7,
             "#b8e186"
            ],
            [
             0.8,
             "#7fbc41"
            ],
            [
             0.9,
             "#4d9221"
            ],
            [
             1,
             "#276419"
            ]
           ],
           "sequential": [
            [
             0,
             "#0d0887"
            ],
            [
             0.1111111111111111,
             "#46039f"
            ],
            [
             0.2222222222222222,
             "#7201a8"
            ],
            [
             0.3333333333333333,
             "#9c179e"
            ],
            [
             0.4444444444444444,
             "#bd3786"
            ],
            [
             0.5555555555555556,
             "#d8576b"
            ],
            [
             0.6666666666666666,
             "#ed7953"
            ],
            [
             0.7777777777777778,
             "#fb9f3a"
            ],
            [
             0.8888888888888888,
             "#fdca26"
            ],
            [
             1,
             "#f0f921"
            ]
           ],
           "sequentialminus": [
            [
             0,
             "#0d0887"
            ],
            [
             0.1111111111111111,
             "#46039f"
            ],
            [
             0.2222222222222222,
             "#7201a8"
            ],
            [
             0.3333333333333333,
             "#9c179e"
            ],
            [
             0.4444444444444444,
             "#bd3786"
            ],
            [
             0.5555555555555556,
             "#d8576b"
            ],
            [
             0.6666666666666666,
             "#ed7953"
            ],
            [
             0.7777777777777778,
             "#fb9f3a"
            ],
            [
             0.8888888888888888,
             "#fdca26"
            ],
            [
             1,
             "#f0f921"
            ]
           ]
          },
          "colorway": [
           "#636efa",
           "#EF553B",
           "#00cc96",
           "#ab63fa",
           "#FFA15A",
           "#19d3f3",
           "#FF6692",
           "#B6E880",
           "#FF97FF",
           "#FECB52"
          ],
          "font": {
           "color": "#2a3f5f"
          },
          "geo": {
           "bgcolor": "white",
           "lakecolor": "white",
           "landcolor": "#E5ECF6",
           "showlakes": true,
           "showland": true,
           "subunitcolor": "white"
          },
          "hoverlabel": {
           "align": "left"
          },
          "hovermode": "closest",
          "mapbox": {
           "style": "light"
          },
          "paper_bgcolor": "white",
          "plot_bgcolor": "#E5ECF6",
          "polar": {
           "angularaxis": {
            "gridcolor": "white",
            "linecolor": "white",
            "ticks": ""
           },
           "bgcolor": "#E5ECF6",
           "radialaxis": {
            "gridcolor": "white",
            "linecolor": "white",
            "ticks": ""
           }
          },
          "scene": {
           "xaxis": {
            "backgroundcolor": "#E5ECF6",
            "gridcolor": "white",
            "gridwidth": 2,
            "linecolor": "white",
            "showbackground": true,
            "ticks": "",
            "zerolinecolor": "white"
           },
           "yaxis": {
            "backgroundcolor": "#E5ECF6",
            "gridcolor": "white",
            "gridwidth": 2,
            "linecolor": "white",
            "showbackground": true,
            "ticks": "",
            "zerolinecolor": "white"
           },
           "zaxis": {
            "backgroundcolor": "#E5ECF6",
            "gridcolor": "white",
            "gridwidth": 2,
            "linecolor": "white",
            "showbackground": true,
            "ticks": "",
            "zerolinecolor": "white"
           }
          },
          "shapedefaults": {
           "line": {
            "color": "#2a3f5f"
           }
          },
          "ternary": {
           "aaxis": {
            "gridcolor": "white",
            "linecolor": "white",
            "ticks": ""
           },
           "baxis": {
            "gridcolor": "white",
            "linecolor": "white",
            "ticks": ""
           },
           "bgcolor": "#E5ECF6",
           "caxis": {
            "gridcolor": "white",
            "linecolor": "white",
            "ticks": ""
           }
          },
          "title": {
           "x": 0.05
          },
          "xaxis": {
           "automargin": true,
           "gridcolor": "white",
           "linecolor": "white",
           "ticks": "",
           "title": {
            "standoff": 15
           },
           "zerolinecolor": "white",
           "zerolinewidth": 2
          },
          "yaxis": {
           "automargin": true,
           "gridcolor": "white",
           "linecolor": "white",
           "ticks": "",
           "title": {
            "standoff": 15
           },
           "zerolinecolor": "white",
           "zerolinewidth": 2
          }
         }
        },
        "title": {
         "font": {
          "color": "#4D5663"
         },
         "text": "SK하이닉스"
        },
        "xaxis": {
         "anchor": "y2",
         "gridcolor": "#E1E5ED",
         "rangeselector": {
          "bgcolor": "rgba(150, 200, 250, 1)",
          "buttons": [
           {
            "count": 1,
            "label": "1m",
            "step": "month",
            "stepmode": "backward"
           },
           {
            "count": 1,
            "label": "1y",
            "step": "year",
            "stepmode": "backward"
           }
          ],
          "font": {
           "size": 13
          },
          "visible": false,
          "x": 0,
          "y": 0.9
         },
         "rangeslider": {
          "visible": false
         },
         "showgrid": true,
         "tickfont": {
          "color": "#4D5663"
         },
         "title": {
          "font": {
           "color": "#4D5663"
          },
          "text": ""
         },
         "zerolinecolor": "#E1E5ED"
        },
        "yaxis": {
         "gridcolor": "#E1E5ED",
         "showgrid": true,
         "showticklabels": false,
         "tickfont": {
          "color": "#4D5663"
         },
         "title": {
          "font": {
           "color": "#4D5663"
          },
          "text": ""
         },
         "zerolinecolor": "#E1E5ED"
        },
        "yaxis2": {
         "domain": [
          0,
          0.9
         ],
         "gridcolor": "#E1E5ED",
         "showgrid": true,
         "tickfont": {
          "color": "#4D5663"
         },
         "title": {
          "font": {
           "color": "#4D5663"
          },
          "text": ""
         },
         "zerolinecolor": "#E1E5ED"
        }
       }
      },
      "text/html": [
       "<div>                            <div id=\"02ae963a-910b-44e6-b9f8-6bf17c1b829a\" class=\"plotly-graph-div\" style=\"height:525px; width:100%;\"></div>            <script type=\"text/javascript\">                require([\"plotly\"], function(Plotly) {                    window.PLOTLYENV=window.PLOTLYENV || {};\n",
       "                    window.PLOTLYENV.BASE_URL='https://plot.ly';                                    if (document.getElementById(\"02ae963a-910b-44e6-b9f8-6bf17c1b829a\")) {                    Plotly.newPlot(                        \"02ae963a-910b-44e6-b9f8-6bf17c1b829a\",                        [{\"line\":{\"color\":\"rgba(55, 128, 191, 1.0)\",\"dash\":\"solid\",\"shape\":\"linear\",\"width\":1.3},\"mode\":\"lines\",\"name\":\" SMA(20)\",\"text\":\"\",\"x\":[\"2022-07-27\",\"2022-07-26\",\"2022-07-25\",\"2022-07-22\",\"2022-07-21\",\"2022-07-20\",\"2022-07-19\",\"2022-07-18\",\"2022-07-15\",\"2022-07-14\",\"2022-07-13\",\"2022-07-12\",\"2022-07-11\",\"2022-07-08\",\"2022-07-07\",\"2022-07-06\",\"2022-07-05\",\"2022-07-04\",\"2022-07-01\",\"2022-06-30\",\"2022-06-29\",\"2022-06-28\",\"2022-06-27\",\"2022-06-24\",\"2022-06-23\",\"2022-06-22\",\"2022-06-21\",\"2022-06-20\",\"2022-06-17\",\"2022-06-16\",\"2022-06-15\",\"2022-06-14\",\"2022-06-13\",\"2022-06-10\",\"2022-06-09\",\"2022-06-08\",\"2022-06-07\",\"2022-06-03\",\"2022-06-02\",\"2022-05-31\",\"2022-05-30\",\"2022-05-27\",\"2022-05-26\",\"2022-05-25\",\"2022-05-24\",\"2022-05-23\",\"2022-05-20\",\"2022-05-19\",\"2022-05-18\",\"2022-05-17\",\"2022-05-16\",\"2022-05-13\",\"2022-05-12\",\"2022-05-11\",\"2022-05-10\",\"2022-05-09\",\"2022-05-06\",\"2022-05-04\",\"2022-05-03\",\"2022-05-02\",\"2022-04-29\",\"2022-04-28\",\"2022-04-27\",\"2022-04-26\",\"2022-04-25\",\"2022-04-22\",\"2022-04-21\",\"2022-04-20\",\"2022-04-19\",\"2022-04-18\",\"2022-04-15\",\"2022-04-14\",\"2022-04-13\",\"2022-04-12\",\"2022-04-11\",\"2022-04-08\",\"2022-04-07\",\"2022-04-06\",\"2022-04-05\",\"2022-04-04\",\"2022-04-01\",\"2022-03-31\",\"2022-03-30\",\"2022-03-29\",\"2022-03-28\",\"2022-03-25\",\"2022-03-24\",\"2022-03-23\",\"2022-03-22\",\"2022-03-21\",\"2022-03-18\",\"2022-03-17\",\"2022-03-16\",\"2022-03-15\",\"2022-03-14\",\"2022-03-11\",\"2022-03-10\",\"2022-03-08\",\"2022-03-07\",\"2022-03-04\",\"2022-03-03\",\"2022-03-02\",\"2022-02-28\",\"2022-02-25\",\"2022-02-24\",\"2022-02-23\",\"2022-02-22\",\"2022-02-21\",\"2022-02-18\",\"2022-02-17\",\"2022-02-16\",\"2022-02-15\",\"2022-02-14\",\"2022-02-11\",\"2022-02-10\",\"2022-02-09\",\"2022-02-08\",\"2022-02-07\",\"2022-02-04\",\"2022-02-03\",\"2022-01-28\",\"2022-01-27\",\"2022-01-26\",\"2022-01-25\",\"2022-01-24\",\"2022-01-21\",\"2022-01-20\",\"2022-01-19\",\"2022-01-18\",\"2022-01-17\",\"2022-01-14\",\"2022-01-13\",\"2022-01-12\",\"2022-01-11\",\"2022-01-10\",\"2022-01-07\",\"2022-01-06\",\"2022-01-05\",\"2022-01-04\",\"2022-01-03\",\"2021-12-30\",\"2021-12-29\",\"2021-12-28\"],\"y\":[\"\",\"\",\"\",\"\",\"\",\"\",\"\",\"\",\"\",\"\",\"\",\"\",\"\",\"\",\"\",\"\",\"\",\"\",\"\",96030.0,95730.0,95470.0,95220.0,94800.0,94185.0,93695.0,93455.0,93130.0,93015.0,93185.0,93380.0,93670.0,93935.0,94370.0,94950.0,95645.0,96220.0,97115.0,98090.0,98940.0,99590.0,100125.0,100525.0,101345.0,102260.0,103300.0,104165.0,104990.0,105845.0,106600.0,107230.0,107900.0,108400.0,108750.0,108975.0,109050.0,109225.0,109350.0,109500.0,109625.0,109900.0,110075.0,110350.0,110500.0,110475.0,110350.0,110375.0,110450.0,110400.0,110225.0,110100.0,109975.0,110175.0,110200.0,110275.0,110500.0,110800.0,110975.0,111300.0,111625.0,111800.0,112225.0,112850.0,113300.0,113800.0,114175.0,114550.0,115100.0,115650.0,116300.0,117100.0,117800.0,117975.0,118050.0,118275.0,118525.0,118850.0,119100.0,119250.0,119625.0,120275.0,120625.0,120750.0,120900.0,121125.0,121650.0,122050.0,122375.0,122775.0,123325.0,123650.0,123800.0,124600.0,125575.0,126250.0,126700.0,126950.0,127200.0,127450.0,127425.0,127000.0,126425.0,126125.0,125875.0,125700.0,125225.0,125050.0,124900.0,124650.0,124350.0,124250.0,124375.0,124175.0,123975.0,123725.0,123775.0,123775.0,123900.0,124100.0,124325.0,124850.0,125525.0,126025.0],\"yaxis\":\"y2\",\"type\":\"scatter\"},{\"legendgroup\":\"BOLL(close,20)\",\"line\":{\"color\":\"rgba(55, 128, 191, 1.0)\",\"dash\":\"solid\",\"shape\":\"linear\",\"width\":1.3},\"mode\":\"lines\",\"name\":\"BOLL(close,20)\",\"showlegend\":true,\"text\":\"\",\"x\":[\"2022-07-27\",\"2022-07-26\",\"2022-07-25\",\"2022-07-22\",\"2022-07-21\",\"2022-07-20\",\"2022-07-19\",\"2022-07-18\",\"2022-07-15\",\"2022-07-14\",\"2022-07-13\",\"2022-07-12\",\"2022-07-11\",\"2022-07-08\",\"2022-07-07\",\"2022-07-06\",\"2022-07-05\",\"2022-07-04\",\"2022-07-01\",\"2022-06-30\",\"2022-06-29\",\"2022-06-28\",\"2022-06-27\",\"2022-06-24\",\"2022-06-23\",\"2022-06-22\",\"2022-06-21\",\"2022-06-20\",\"2022-06-17\",\"2022-06-16\",\"2022-06-15\",\"2022-06-14\",\"2022-06-13\",\"2022-06-10\",\"2022-06-09\",\"2022-06-08\",\"2022-06-07\",\"2022-06-03\",\"2022-06-02\",\"2022-05-31\",\"2022-05-30\",\"2022-05-27\",\"2022-05-26\",\"2022-05-25\",\"2022-05-24\",\"2022-05-23\",\"2022-05-20\",\"2022-05-19\",\"2022-05-18\",\"2022-05-17\",\"2022-05-16\",\"2022-05-13\",\"2022-05-12\",\"2022-05-11\",\"2022-05-10\",\"2022-05-09\",\"2022-05-06\",\"2022-05-04\",\"2022-05-03\",\"2022-05-02\",\"2022-04-29\",\"2022-04-28\",\"2022-04-27\",\"2022-04-26\",\"2022-04-25\",\"2022-04-22\",\"2022-04-21\",\"2022-04-20\",\"2022-04-19\",\"2022-04-18\",\"2022-04-15\",\"2022-04-14\",\"2022-04-13\",\"2022-04-12\",\"2022-04-11\",\"2022-04-08\",\"2022-04-07\",\"2022-04-06\",\"2022-04-05\",\"2022-04-04\",\"2022-04-01\",\"2022-03-31\",\"2022-03-30\",\"2022-03-29\",\"2022-03-28\",\"2022-03-25\",\"2022-03-24\",\"2022-03-23\",\"2022-03-22\",\"2022-03-21\",\"2022-03-18\",\"2022-03-17\",\"2022-03-16\",\"2022-03-15\",\"2022-03-14\",\"2022-03-11\",\"2022-03-10\",\"2022-03-08\",\"2022-03-07\",\"2022-03-04\",\"2022-03-03\",\"2022-03-02\",\"2022-02-28\",\"2022-02-25\",\"2022-02-24\",\"2022-02-23\",\"2022-02-22\",\"2022-02-21\",\"2022-02-18\",\"2022-02-17\",\"2022-02-16\",\"2022-02-15\",\"2022-02-14\",\"2022-02-11\",\"2022-02-10\",\"2022-02-09\",\"2022-02-08\",\"2022-02-07\",\"2022-02-04\",\"2022-02-03\",\"2022-01-28\",\"2022-01-27\",\"2022-01-26\",\"2022-01-25\",\"2022-01-24\",\"2022-01-21\",\"2022-01-20\",\"2022-01-19\",\"2022-01-18\",\"2022-01-17\",\"2022-01-14\",\"2022-01-13\",\"2022-01-12\",\"2022-01-11\",\"2022-01-10\",\"2022-01-07\",\"2022-01-06\",\"2022-01-05\",\"2022-01-04\",\"2022-01-03\",\"2021-12-30\",\"2021-12-29\",\"2021-12-28\"],\"y\":[\"\",\"\",\"\",\"\",\"\",\"\",\"\",\"\",\"\",\"\",\"\",\"\",\"\",\"\",\"\",\"\",\"\",\"\",\"\",96030.0,95730.0,95470.0,95220.0,94800.0,94185.0,93695.0,93455.0,93130.0,93015.0,93185.0,93380.0,93670.0,93935.0,94370.0,94950.0,95645.0,96220.0,97115.0,98090.0,98940.0,99590.0,100125.0,100525.0,101345.0,102260.0,103300.0,104165.0,104990.0,105845.0,106600.0,107230.0,107900.0,108400.0,108750.0,108975.0,109050.0,109225.0,109350.0,109500.0,109625.0,109900.0,110075.0,110350.0,110500.0,110475.0,110350.0,110375.0,110450.0,110400.0,110225.0,110100.0,109975.0,110175.0,110200.0,110275.0,110500.0,110800.0,110975.0,111300.0,111625.0,111800.0,112225.0,112850.0,113300.0,113800.0,114175.0,114550.0,115100.0,115650.0,116300.0,117100.0,117800.0,117975.0,118050.0,118275.0,118525.0,118850.0,119100.0,119250.0,119625.0,120275.0,120625.0,120750.0,120900.0,121125.0,121650.0,122050.0,122375.0,122775.0,123325.0,123650.0,123800.0,124600.0,125575.0,126250.0,126700.0,126950.0,127200.0,127450.0,127425.0,127000.0,126425.0,126125.0,125875.0,125700.0,125225.0,125050.0,124900.0,124650.0,124350.0,124250.0,124375.0,124175.0,123975.0,123725.0,123775.0,123775.0,123900.0,124100.0,124325.0,124850.0,125525.0,126025.0],\"yaxis\":\"y2\",\"type\":\"scatter\"},{\"legendgroup\":\"BOLL(close,20)\",\"line\":{\"color\":\"rgba(55, 128, 191, 0.8999999999999999)\",\"dash\":\"solid\",\"shape\":\"linear\",\"width\":1.3},\"mode\":\"lines\",\"name\":\"UPPER(close,20)\",\"showlegend\":false,\"text\":\"\",\"x\":[\"2022-07-27\",\"2022-07-26\",\"2022-07-25\",\"2022-07-22\",\"2022-07-21\",\"2022-07-20\",\"2022-07-19\",\"2022-07-18\",\"2022-07-15\",\"2022-07-14\",\"2022-07-13\",\"2022-07-12\",\"2022-07-11\",\"2022-07-08\",\"2022-07-07\",\"2022-07-06\",\"2022-07-05\",\"2022-07-04\",\"2022-07-01\",\"2022-06-30\",\"2022-06-29\",\"2022-06-28\",\"2022-06-27\",\"2022-06-24\",\"2022-06-23\",\"2022-06-22\",\"2022-06-21\",\"2022-06-20\",\"2022-06-17\",\"2022-06-16\",\"2022-06-15\",\"2022-06-14\",\"2022-06-13\",\"2022-06-10\",\"2022-06-09\",\"2022-06-08\",\"2022-06-07\",\"2022-06-03\",\"2022-06-02\",\"2022-05-31\",\"2022-05-30\",\"2022-05-27\",\"2022-05-26\",\"2022-05-25\",\"2022-05-24\",\"2022-05-23\",\"2022-05-20\",\"2022-05-19\",\"2022-05-18\",\"2022-05-17\",\"2022-05-16\",\"2022-05-13\",\"2022-05-12\",\"2022-05-11\",\"2022-05-10\",\"2022-05-09\",\"2022-05-06\",\"2022-05-04\",\"2022-05-03\",\"2022-05-02\",\"2022-04-29\",\"2022-04-28\",\"2022-04-27\",\"2022-04-26\",\"2022-04-25\",\"2022-04-22\",\"2022-04-21\",\"2022-04-20\",\"2022-04-19\",\"2022-04-18\",\"2022-04-15\",\"2022-04-14\",\"2022-04-13\",\"2022-04-12\",\"2022-04-11\",\"2022-04-08\",\"2022-04-07\",\"2022-04-06\",\"2022-04-05\",\"2022-04-04\",\"2022-04-01\",\"2022-03-31\",\"2022-03-30\",\"2022-03-29\",\"2022-03-28\",\"2022-03-25\",\"2022-03-24\",\"2022-03-23\",\"2022-03-22\",\"2022-03-21\",\"2022-03-18\",\"2022-03-17\",\"2022-03-16\",\"2022-03-15\",\"2022-03-14\",\"2022-03-11\",\"2022-03-10\",\"2022-03-08\",\"2022-03-07\",\"2022-03-04\",\"2022-03-03\",\"2022-03-02\",\"2022-02-28\",\"2022-02-25\",\"2022-02-24\",\"2022-02-23\",\"2022-02-22\",\"2022-02-21\",\"2022-02-18\",\"2022-02-17\",\"2022-02-16\",\"2022-02-15\",\"2022-02-14\",\"2022-02-11\",\"2022-02-10\",\"2022-02-09\",\"2022-02-08\",\"2022-02-07\",\"2022-02-04\",\"2022-02-03\",\"2022-01-28\",\"2022-01-27\",\"2022-01-26\",\"2022-01-25\",\"2022-01-24\",\"2022-01-21\",\"2022-01-20\",\"2022-01-19\",\"2022-01-18\",\"2022-01-17\",\"2022-01-14\",\"2022-01-13\",\"2022-01-12\",\"2022-01-11\",\"2022-01-10\",\"2022-01-07\",\"2022-01-06\",\"2022-01-05\",\"2022-01-04\",\"2022-01-03\",\"2021-12-30\",\"2021-12-29\",\"2021-12-28\"],\"y\":[\"\",\"\",\"\",\"\",\"\",\"\",\"\",\"\",\"\",\"\",\"\",\"\",\"\",\"\",\"\",\"\",\"\",\"\",\"\",105132.01828399094,104675.2368978074,104129.18435444185,103613.13002275953,103024.99400095765,101802.78390209038,100402.56838833645,99525.97494988286,98095.60803506426,97522.89949918327,98088.39302502816,98711.37683411785,99582.3777388049,100310.04179552862,102047.74637987504,104091.34620973933,105917.59512130775,107024.98910104421,108391.85566477689,109237.79185120958,110399.65922153377,111340.9059001289,112026.8574401778,112237.85843129587,112718.37148550809,112769.82497725969,113734.55796859646,114640.49019076636,114840.86691349388,115523.51119477414,115851.11657556734,115666.78661701555,115724.38832315849,115014.17934599998,115003.42011685563,115057.54621199482,115013.92664715383,114754.5854988845,114779.93651218094,114821.25826038205,114915.25917184245,115187.52255189915,115040.93660005738,114135.01199330646,114127.38125055005,114166.7404253849,113845.86221576008,113942.02736329935,114133.53377242989,113933.30023155629,113665.85362725741,113677.70876399966,113369.65524177733,113791.8465473902,113833.18042491698,113952.45621463074,114009.3859111936,114254.97353177461,114506.43775700194,115572.30986457529,116576.07643798162,117115.32045872565,118096.20538148504,119640.86073143045,120736.75084683458,121079.38690304414,121511.10394232739,122383.12803015769,123821.41948852001,125042.6062747024,125553.16446582352,126094.73530226959,126646.05175086306,126555.73116747175,126397.07638700679,126105.27189149501,125812.15524597543,125763.75440697744,125462.72037153259,125494.9979983984,126193.46533385883,127831.62832081526,128383.69630937134,128613.9751565705,128818.0008109437,128951.23792124925,129985.71895677366,130904.97184161471,131905.4222030517,133139.2858438308,134639.98773169555,135411.2208460463,135656.1554077463,136541.08343845778,136497.09253134023,136315.57447310805,135780.92274467397,135514.92234272102,134914.64772194324,134400.1987854949,134423.30806620241,134601.93881086993,136116.4232293573,136541.9649080112,136833.65435458013,136992.2889386379,136816.62583392355,136538.6671848483,136193.22106864394,135542.29568379218,134584.6161833775,134268.40411705535,134598.16770354164,133871.8524464602,133142.87870774913,132523.77383802037,132639.32827626966,132639.32827626966,132788.78654911846,133222.55735150943,133656.751119022,134453.17929810638,133534.69806908444,133121.88589972278],\"yaxis\":\"y2\",\"type\":\"scatter\"},{\"fill\":\"tonexty\",\"fillcolor\":\"rgba(55, 128, 191, 0.1)\",\"legendgroup\":\"BOLL(close,20)\",\"line\":{\"color\":\"rgba(55, 128, 191, 0.7999999999999998)\",\"dash\":\"solid\",\"shape\":\"linear\",\"width\":1.3},\"mode\":\"lines\",\"name\":\"LOWER(close,20)\",\"showlegend\":false,\"text\":\"\",\"x\":[\"2022-07-27\",\"2022-07-26\",\"2022-07-25\",\"2022-07-22\",\"2022-07-21\",\"2022-07-20\",\"2022-07-19\",\"2022-07-18\",\"2022-07-15\",\"2022-07-14\",\"2022-07-13\",\"2022-07-12\",\"2022-07-11\",\"2022-07-08\",\"2022-07-07\",\"2022-07-06\",\"2022-07-05\",\"2022-07-04\",\"2022-07-01\",\"2022-06-30\",\"2022-06-29\",\"2022-06-28\",\"2022-06-27\",\"2022-06-24\",\"2022-06-23\",\"2022-06-22\",\"2022-06-21\",\"2022-06-20\",\"2022-06-17\",\"2022-06-16\",\"2022-06-15\",\"2022-06-14\",\"2022-06-13\",\"2022-06-10\",\"2022-06-09\",\"2022-06-08\",\"2022-06-07\",\"2022-06-03\",\"2022-06-02\",\"2022-05-31\",\"2022-05-30\",\"2022-05-27\",\"2022-05-26\",\"2022-05-25\",\"2022-05-24\",\"2022-05-23\",\"2022-05-20\",\"2022-05-19\",\"2022-05-18\",\"2022-05-17\",\"2022-05-16\",\"2022-05-13\",\"2022-05-12\",\"2022-05-11\",\"2022-05-10\",\"2022-05-09\",\"2022-05-06\",\"2022-05-04\",\"2022-05-03\",\"2022-05-02\",\"2022-04-29\",\"2022-04-28\",\"2022-04-27\",\"2022-04-26\",\"2022-04-25\",\"2022-04-22\",\"2022-04-21\",\"2022-04-20\",\"2022-04-19\",\"2022-04-18\",\"2022-04-15\",\"2022-04-14\",\"2022-04-13\",\"2022-04-12\",\"2022-04-11\",\"2022-04-08\",\"2022-04-07\",\"2022-04-06\",\"2022-04-05\",\"2022-04-04\",\"2022-04-01\",\"2022-03-31\",\"2022-03-30\",\"2022-03-29\",\"2022-03-28\",\"2022-03-25\",\"2022-03-24\",\"2022-03-23\",\"2022-03-22\",\"2022-03-21\",\"2022-03-18\",\"2022-03-17\",\"2022-03-16\",\"2022-03-15\",\"2022-03-14\",\"2022-03-11\",\"2022-03-10\",\"2022-03-08\",\"2022-03-07\",\"2022-03-04\",\"2022-03-03\",\"2022-03-02\",\"2022-02-28\",\"2022-02-25\",\"2022-02-24\",\"2022-02-23\",\"2022-02-22\",\"2022-02-21\",\"2022-02-18\",\"2022-02-17\",\"2022-02-16\",\"2022-02-15\",\"2022-02-14\",\"2022-02-11\",\"2022-02-10\",\"2022-02-09\",\"2022-02-08\",\"2022-02-07\",\"2022-02-04\",\"2022-02-03\",\"2022-01-28\",\"2022-01-27\",\"2022-01-26\",\"2022-01-25\",\"2022-01-24\",\"2022-01-21\",\"2022-01-20\",\"2022-01-19\",\"2022-01-18\",\"2022-01-17\",\"2022-01-14\",\"2022-01-13\",\"2022-01-12\",\"2022-01-11\",\"2022-01-10\",\"2022-01-07\",\"2022-01-06\",\"2022-01-05\",\"2022-01-04\",\"2022-01-03\",\"2021-12-30\",\"2021-12-29\",\"2021-12-28\"],\"y\":[\"\",\"\",\"\",\"\",\"\",\"\",\"\",\"\",\"\",\"\",\"\",\"\",\"\",\"\",\"\",\"\",\"\",\"\",\"\",86927.98171600906,86784.7631021926,86810.81564555815,86826.86997724047,86575.00599904235,86567.21609790962,86987.43161166355,87384.02505011714,88164.39196493574,88507.10050081673,88281.60697497184,88048.62316588215,87757.6222611951,87559.95820447138,86692.25362012496,85808.65379026067,85372.40487869225,85415.01089895579,85838.14433522311,86942.20814879042,87480.34077846623,87839.0940998711,88223.1425598222,88812.14156870413,89971.62851449191,91750.17502274031,92865.44203140354,93689.50980923364,95139.13308650612,96166.48880522586,97348.88342443266,98793.21338298445,100075.61167684151,101785.82065400002,102496.57988314437,102892.45378800518,103086.07335284617,103695.4145011155,103920.06348781906,104178.74173961795,104334.74082815755,104612.47744810085,105109.06339994262,106564.98800669354,106872.61874944995,106783.2595746151,106854.13778423992,106807.97263670065,106766.46622757011,106866.69976844371,106784.14637274259,106522.29123600034,106580.34475822267,106558.1534526098,106566.81957508302,106597.54378536926,106990.6140888064,107345.02646822539,107443.56224299806,107027.69013542471,106673.92356201838,106484.67954127435,106353.79461851496,106059.13926856955,105863.24915316542,106520.61309695586,106838.89605767261,106716.87196984231,106378.58051147999,106257.3937252976,107046.83553417648,108105.26469773041,108953.94824913694,109394.26883252825,109702.92361299321,110444.72810850499,111237.84475402457,111936.24559302256,112737.27962846741,113005.0020016016,113056.53466614117,112718.37167918474,112866.30369062866,112886.0248434295,112981.9991890563,113298.76207875075,113314.28104322634,113195.02815838529,112844.57779694829,112410.7141561692,112010.01226830445,111888.77915395371,111943.8445922537,112658.91656154222,114652.90746865977,116184.42552689197,117619.07725532605,118385.07765727896,119485.35227805676,120499.8012145051,120426.6919337976,119398.06118913008,116733.5767706427,115708.0350919888,114916.34564541987,114407.71106136209,113633.37416607644,113561.33281515169,113606.77893135606,113757.70431620782,114115.3838166225,114231.59588294465,114151.83229645836,114478.1475535398,114807.12129225087,114926.22616197963,114910.67172373035,114910.67172373035,115011.21345088154,114977.44264849056,114993.248880978,115246.82070189362,117515.30193091558,118928.1141002772],\"yaxis\":\"y2\",\"type\":\"scatter\"},{\"close\":[100000,100500,100000,100000,102500,102000,100000,101000,98700,94000,94000,93300,93700,94800,93900,92100,92500,89100,87500,91000,94000,95300,95000,91600,90200,92200,95200,94500,96400,97400,97900,99100,99000,103500,105500,106000,104000,107000,107000,108000,107000,106000,103000,108000,108500,113000,112500,111000,113500,112500,110500,112500,109000,110500,110000,107500,107500,109500,110000,110500,112500,109500,108500,111000,108000,110500,113000,112500,112500,109000,108000,110000,113000,111000,111500,112000,113500,113000,116500,117000,116000,118000,121000,120000,118000,118000,120500,123500,123500,122000,124000,124000,116500,112500,116000,117000,120000,118000,119500,124500,129000,125000,123500,123000,122500,128500,128500,130000,131500,133000,130500,127000,132500,132000,129500,126000,125000,123000,124500,124000,120500,113500,117500,118000,119000,119000,125000,127000,126500,127000,128500,129500,128500,128000,124500,127000,125000,125500,128500,128500,131000,127000,127500],\"decreasing\":{\"line\":{\"color\":\"#808080\"}},\"high\":[101500,101000,101500,102500,103000,104500,100500,103500,99000,95500,96400,94000,95700,96500,95200,93600,93400,89600,92500,93100,94900,95300,96100,92000,93000,95700,95900,96800,96400,101500,98900,99600,101000,104500,107000,107500,106000,108500,107500,108000,108000,107000,108500,110000,112000,113500,113000,112500,115000,113000,114000,112500,111500,112500,111000,109000,108500,111000,112000,111500,112500,110000,109500,111000,109500,112000,115000,113000,112500,109500,108500,113000,113000,113000,113000,114000,114500,115500,118000,117500,117500,120000,123000,120500,119500,123000,122000,124500,124000,124500,125000,124500,117000,115500,117000,119000,121500,119500,121000,128000,129500,126500,123500,126000,126000,130500,129500,130500,133000,134000,132500,132000,132500,132500,131000,128000,126000,123500,127000,127000,121500,119500,119500,120000,120500,122500,126500,128500,127500,128000,129000,130000,130000,128500,127000,129000,127000,129000,130000,132500,133500,128500,128000],\"increasing\":{\"line\":{\"color\":\"#17BECF\"}},\"low\":[98600,99100,98900,100000,100500,101000,98700,100000,95500,92300,93800,91700,93500,94500,91300,90900,90400,86300,87100,91000,92900,93700,92600,90500,89700,91700,93900,93100,95000,97100,96700,96800,99000,102500,104500,104500,103500,107000,106000,105500,106000,105000,101500,107000,108500,111000,111000,110000,113000,110500,110000,109000,108500,108000,107000,106500,106500,108500,109500,110000,109500,108000,107500,108000,108000,110500,112500,111000,109500,106500,107000,110000,111000,110500,110500,110500,110500,113000,116000,114500,116000,117500,120500,118500,116500,118000,119500,122000,121000,121000,121000,121000,114000,112000,114500,115500,118500,116500,119000,124000,127000,123000,121000,122500,122000,127000,126000,127000,129500,130000,130000,127000,129500,130000,127000,124500,123500,119500,124000,124000,114500,111000,117500,116500,116500,118000,123500,123500,125000,124500,126000,128000,126500,124500,123000,126500,123000,121500,127500,128000,130000,125500,124500],\"name\":\"SK\\ud558\\uc774\\ub2c9\\uc2a4\",\"open\":[101000,100500,99100,102500,102000,103000,100000,101000,95900,92800,94600,94000,95000,95900,91300,92800,90400,87500,91000,91500,93300,94500,92700,90500,92100,95700,94700,96700,95100,99900,98500,96900,100000,104000,105500,104500,105500,108000,106000,106500,108000,105500,107500,109500,111500,113000,111500,110500,114000,111000,113500,109000,109500,110500,107000,107000,108000,110500,111000,110000,110000,109500,108000,109500,109000,110500,112500,112500,110000,107000,108000,113000,112000,110500,111000,113000,111500,114500,117500,115000,117000,119500,123000,119500,117500,122000,121000,124000,121000,124000,124000,121000,115000,114500,115500,118500,121000,117000,119000,127500,128000,124500,123000,125500,125500,130000,127000,129000,131500,130500,131000,131500,130000,130500,129000,127000,124500,123000,125500,124500,115000,119500,119000,118000,116500,121500,126000,123500,126500,127500,128500,128500,129500,125500,126500,127000,123500,129000,129500,132000,131000,127500,126500],\"showlegend\":true,\"x\":[\"2022-07-27\",\"2022-07-26\",\"2022-07-25\",\"2022-07-22\",\"2022-07-21\",\"2022-07-20\",\"2022-07-19\",\"2022-07-18\",\"2022-07-15\",\"2022-07-14\",\"2022-07-13\",\"2022-07-12\",\"2022-07-11\",\"2022-07-08\",\"2022-07-07\",\"2022-07-06\",\"2022-07-05\",\"2022-07-04\",\"2022-07-01\",\"2022-06-30\",\"2022-06-29\",\"2022-06-28\",\"2022-06-27\",\"2022-06-24\",\"2022-06-23\",\"2022-06-22\",\"2022-06-21\",\"2022-06-20\",\"2022-06-17\",\"2022-06-16\",\"2022-06-15\",\"2022-06-14\",\"2022-06-13\",\"2022-06-10\",\"2022-06-09\",\"2022-06-08\",\"2022-06-07\",\"2022-06-03\",\"2022-06-02\",\"2022-05-31\",\"2022-05-30\",\"2022-05-27\",\"2022-05-26\",\"2022-05-25\",\"2022-05-24\",\"2022-05-23\",\"2022-05-20\",\"2022-05-19\",\"2022-05-18\",\"2022-05-17\",\"2022-05-16\",\"2022-05-13\",\"2022-05-12\",\"2022-05-11\",\"2022-05-10\",\"2022-05-09\",\"2022-05-06\",\"2022-05-04\",\"2022-05-03\",\"2022-05-02\",\"2022-04-29\",\"2022-04-28\",\"2022-04-27\",\"2022-04-26\",\"2022-04-25\",\"2022-04-22\",\"2022-04-21\",\"2022-04-20\",\"2022-04-19\",\"2022-04-18\",\"2022-04-15\",\"2022-04-14\",\"2022-04-13\",\"2022-04-12\",\"2022-04-11\",\"2022-04-08\",\"2022-04-07\",\"2022-04-06\",\"2022-04-05\",\"2022-04-04\",\"2022-04-01\",\"2022-03-31\",\"2022-03-30\",\"2022-03-29\",\"2022-03-28\",\"2022-03-25\",\"2022-03-24\",\"2022-03-23\",\"2022-03-22\",\"2022-03-21\",\"2022-03-18\",\"2022-03-17\",\"2022-03-16\",\"2022-03-15\",\"2022-03-14\",\"2022-03-11\",\"2022-03-10\",\"2022-03-08\",\"2022-03-07\",\"2022-03-04\",\"2022-03-03\",\"2022-03-02\",\"2022-02-28\",\"2022-02-25\",\"2022-02-24\",\"2022-02-23\",\"2022-02-22\",\"2022-02-21\",\"2022-02-18\",\"2022-02-17\",\"2022-02-16\",\"2022-02-15\",\"2022-02-14\",\"2022-02-11\",\"2022-02-10\",\"2022-02-09\",\"2022-02-08\",\"2022-02-07\",\"2022-02-04\",\"2022-02-03\",\"2022-01-28\",\"2022-01-27\",\"2022-01-26\",\"2022-01-25\",\"2022-01-24\",\"2022-01-21\",\"2022-01-20\",\"2022-01-19\",\"2022-01-18\",\"2022-01-17\",\"2022-01-14\",\"2022-01-13\",\"2022-01-12\",\"2022-01-11\",\"2022-01-10\",\"2022-01-07\",\"2022-01-06\",\"2022-01-05\",\"2022-01-04\",\"2022-01-03\",\"2021-12-30\",\"2021-12-29\",\"2021-12-28\"],\"yaxis\":\"y2\",\"type\":\"candlestick\"}],                        {\"legend\":{\"bgcolor\":\"#F5F6F9\",\"font\":{\"color\":\"#4D5663\"}},\"margin\":{\"b\":30,\"l\":30,\"r\":30,\"t\":30},\"paper_bgcolor\":\"#F5F6F9\",\"plot_bgcolor\":\"#F5F6F9\",\"showlegend\":true,\"template\":{\"data\":{\"barpolar\":[{\"marker\":{\"line\":{\"color\":\"#E5ECF6\",\"width\":0.5},\"pattern\":{\"fillmode\":\"overlay\",\"size\":10,\"solidity\":0.2}},\"type\":\"barpolar\"}],\"bar\":[{\"error_x\":{\"color\":\"#2a3f5f\"},\"error_y\":{\"color\":\"#2a3f5f\"},\"marker\":{\"line\":{\"color\":\"#E5ECF6\",\"width\":0.5},\"pattern\":{\"fillmode\":\"overlay\",\"size\":10,\"solidity\":0.2}},\"type\":\"bar\"}],\"carpet\":[{\"aaxis\":{\"endlinecolor\":\"#2a3f5f\",\"gridcolor\":\"white\",\"linecolor\":\"white\",\"minorgridcolor\":\"white\",\"startlinecolor\":\"#2a3f5f\"},\"baxis\":{\"endlinecolor\":\"#2a3f5f\",\"gridcolor\":\"white\",\"linecolor\":\"white\",\"minorgridcolor\":\"white\",\"startlinecolor\":\"#2a3f5f\"},\"type\":\"carpet\"}],\"choropleth\":[{\"colorbar\":{\"outlinewidth\":0,\"ticks\":\"\"},\"type\":\"choropleth\"}],\"contourcarpet\":[{\"colorbar\":{\"outlinewidth\":0,\"ticks\":\"\"},\"type\":\"contourcarpet\"}],\"contour\":[{\"colorbar\":{\"outlinewidth\":0,\"ticks\":\"\"},\"colorscale\":[[0.0,\"#0d0887\"],[0.1111111111111111,\"#46039f\"],[0.2222222222222222,\"#7201a8\"],[0.3333333333333333,\"#9c179e\"],[0.4444444444444444,\"#bd3786\"],[0.5555555555555556,\"#d8576b\"],[0.6666666666666666,\"#ed7953\"],[0.7777777777777778,\"#fb9f3a\"],[0.8888888888888888,\"#fdca26\"],[1.0,\"#f0f921\"]],\"type\":\"contour\"}],\"heatmapgl\":[{\"colorbar\":{\"outlinewidth\":0,\"ticks\":\"\"},\"colorscale\":[[0.0,\"#0d0887\"],[0.1111111111111111,\"#46039f\"],[0.2222222222222222,\"#7201a8\"],[0.3333333333333333,\"#9c179e\"],[0.4444444444444444,\"#bd3786\"],[0.5555555555555556,\"#d8576b\"],[0.6666666666666666,\"#ed7953\"],[0.7777777777777778,\"#fb9f3a\"],[0.8888888888888888,\"#fdca26\"],[1.0,\"#f0f921\"]],\"type\":\"heatmapgl\"}],\"heatmap\":[{\"colorbar\":{\"outlinewidth\":0,\"ticks\":\"\"},\"colorscale\":[[0.0,\"#0d0887\"],[0.1111111111111111,\"#46039f\"],[0.2222222222222222,\"#7201a8\"],[0.3333333333333333,\"#9c179e\"],[0.4444444444444444,\"#bd3786\"],[0.5555555555555556,\"#d8576b\"],[0.6666666666666666,\"#ed7953\"],[0.7777777777777778,\"#fb9f3a\"],[0.8888888888888888,\"#fdca26\"],[1.0,\"#f0f921\"]],\"type\":\"heatmap\"}],\"histogram2dcontour\":[{\"colorbar\":{\"outlinewidth\":0,\"ticks\":\"\"},\"colorscale\":[[0.0,\"#0d0887\"],[0.1111111111111111,\"#46039f\"],[0.2222222222222222,\"#7201a8\"],[0.3333333333333333,\"#9c179e\"],[0.4444444444444444,\"#bd3786\"],[0.5555555555555556,\"#d8576b\"],[0.6666666666666666,\"#ed7953\"],[0.7777777777777778,\"#fb9f3a\"],[0.8888888888888888,\"#fdca26\"],[1.0,\"#f0f921\"]],\"type\":\"histogram2dcontour\"}],\"histogram2d\":[{\"colorbar\":{\"outlinewidth\":0,\"ticks\":\"\"},\"colorscale\":[[0.0,\"#0d0887\"],[0.1111111111111111,\"#46039f\"],[0.2222222222222222,\"#7201a8\"],[0.3333333333333333,\"#9c179e\"],[0.4444444444444444,\"#bd3786\"],[0.5555555555555556,\"#d8576b\"],[0.6666666666666666,\"#ed7953\"],[0.7777777777777778,\"#fb9f3a\"],[0.8888888888888888,\"#fdca26\"],[1.0,\"#f0f921\"]],\"type\":\"histogram2d\"}],\"histogram\":[{\"marker\":{\"pattern\":{\"fillmode\":\"overlay\",\"size\":10,\"solidity\":0.2}},\"type\":\"histogram\"}],\"mesh3d\":[{\"colorbar\":{\"outlinewidth\":0,\"ticks\":\"\"},\"type\":\"mesh3d\"}],\"parcoords\":[{\"line\":{\"colorbar\":{\"outlinewidth\":0,\"ticks\":\"\"}},\"type\":\"parcoords\"}],\"pie\":[{\"automargin\":true,\"type\":\"pie\"}],\"scatter3d\":[{\"line\":{\"colorbar\":{\"outlinewidth\":0,\"ticks\":\"\"}},\"marker\":{\"colorbar\":{\"outlinewidth\":0,\"ticks\":\"\"}},\"type\":\"scatter3d\"}],\"scattercarpet\":[{\"marker\":{\"colorbar\":{\"outlinewidth\":0,\"ticks\":\"\"}},\"type\":\"scattercarpet\"}],\"scattergeo\":[{\"marker\":{\"colorbar\":{\"outlinewidth\":0,\"ticks\":\"\"}},\"type\":\"scattergeo\"}],\"scattergl\":[{\"marker\":{\"colorbar\":{\"outlinewidth\":0,\"ticks\":\"\"}},\"type\":\"scattergl\"}],\"scattermapbox\":[{\"marker\":{\"colorbar\":{\"outlinewidth\":0,\"ticks\":\"\"}},\"type\":\"scattermapbox\"}],\"scatterpolargl\":[{\"marker\":{\"colorbar\":{\"outlinewidth\":0,\"ticks\":\"\"}},\"type\":\"scatterpolargl\"}],\"scatterpolar\":[{\"marker\":{\"colorbar\":{\"outlinewidth\":0,\"ticks\":\"\"}},\"type\":\"scatterpolar\"}],\"scatter\":[{\"marker\":{\"colorbar\":{\"outlinewidth\":0,\"ticks\":\"\"}},\"type\":\"scatter\"}],\"scatterternary\":[{\"marker\":{\"colorbar\":{\"outlinewidth\":0,\"ticks\":\"\"}},\"type\":\"scatterternary\"}],\"surface\":[{\"colorbar\":{\"outlinewidth\":0,\"ticks\":\"\"},\"colorscale\":[[0.0,\"#0d0887\"],[0.1111111111111111,\"#46039f\"],[0.2222222222222222,\"#7201a8\"],[0.3333333333333333,\"#9c179e\"],[0.4444444444444444,\"#bd3786\"],[0.5555555555555556,\"#d8576b\"],[0.6666666666666666,\"#ed7953\"],[0.7777777777777778,\"#fb9f3a\"],[0.8888888888888888,\"#fdca26\"],[1.0,\"#f0f921\"]],\"type\":\"surface\"}],\"table\":[{\"cells\":{\"fill\":{\"color\":\"#EBF0F8\"},\"line\":{\"color\":\"white\"}},\"header\":{\"fill\":{\"color\":\"#C8D4E3\"},\"line\":{\"color\":\"white\"}},\"type\":\"table\"}]},\"layout\":{\"annotationdefaults\":{\"arrowcolor\":\"#2a3f5f\",\"arrowhead\":0,\"arrowwidth\":1},\"autotypenumbers\":\"strict\",\"coloraxis\":{\"colorbar\":{\"outlinewidth\":0,\"ticks\":\"\"}},\"colorscale\":{\"diverging\":[[0,\"#8e0152\"],[0.1,\"#c51b7d\"],[0.2,\"#de77ae\"],[0.3,\"#f1b6da\"],[0.4,\"#fde0ef\"],[0.5,\"#f7f7f7\"],[0.6,\"#e6f5d0\"],[0.7,\"#b8e186\"],[0.8,\"#7fbc41\"],[0.9,\"#4d9221\"],[1,\"#276419\"]],\"sequential\":[[0.0,\"#0d0887\"],[0.1111111111111111,\"#46039f\"],[0.2222222222222222,\"#7201a8\"],[0.3333333333333333,\"#9c179e\"],[0.4444444444444444,\"#bd3786\"],[0.5555555555555556,\"#d8576b\"],[0.6666666666666666,\"#ed7953\"],[0.7777777777777778,\"#fb9f3a\"],[0.8888888888888888,\"#fdca26\"],[1.0,\"#f0f921\"]],\"sequentialminus\":[[0.0,\"#0d0887\"],[0.1111111111111111,\"#46039f\"],[0.2222222222222222,\"#7201a8\"],[0.3333333333333333,\"#9c179e\"],[0.4444444444444444,\"#bd3786\"],[0.5555555555555556,\"#d8576b\"],[0.6666666666666666,\"#ed7953\"],[0.7777777777777778,\"#fb9f3a\"],[0.8888888888888888,\"#fdca26\"],[1.0,\"#f0f921\"]]},\"colorway\":[\"#636efa\",\"#EF553B\",\"#00cc96\",\"#ab63fa\",\"#FFA15A\",\"#19d3f3\",\"#FF6692\",\"#B6E880\",\"#FF97FF\",\"#FECB52\"],\"font\":{\"color\":\"#2a3f5f\"},\"geo\":{\"bgcolor\":\"white\",\"lakecolor\":\"white\",\"landcolor\":\"#E5ECF6\",\"showlakes\":true,\"showland\":true,\"subunitcolor\":\"white\"},\"hoverlabel\":{\"align\":\"left\"},\"hovermode\":\"closest\",\"mapbox\":{\"style\":\"light\"},\"paper_bgcolor\":\"white\",\"plot_bgcolor\":\"#E5ECF6\",\"polar\":{\"angularaxis\":{\"gridcolor\":\"white\",\"linecolor\":\"white\",\"ticks\":\"\"},\"bgcolor\":\"#E5ECF6\",\"radialaxis\":{\"gridcolor\":\"white\",\"linecolor\":\"white\",\"ticks\":\"\"}},\"scene\":{\"xaxis\":{\"backgroundcolor\":\"#E5ECF6\",\"gridcolor\":\"white\",\"gridwidth\":2,\"linecolor\":\"white\",\"showbackground\":true,\"ticks\":\"\",\"zerolinecolor\":\"white\"},\"yaxis\":{\"backgroundcolor\":\"#E5ECF6\",\"gridcolor\":\"white\",\"gridwidth\":2,\"linecolor\":\"white\",\"showbackground\":true,\"ticks\":\"\",\"zerolinecolor\":\"white\"},\"zaxis\":{\"backgroundcolor\":\"#E5ECF6\",\"gridcolor\":\"white\",\"gridwidth\":2,\"linecolor\":\"white\",\"showbackground\":true,\"ticks\":\"\",\"zerolinecolor\":\"white\"}},\"shapedefaults\":{\"line\":{\"color\":\"#2a3f5f\"}},\"ternary\":{\"aaxis\":{\"gridcolor\":\"white\",\"linecolor\":\"white\",\"ticks\":\"\"},\"baxis\":{\"gridcolor\":\"white\",\"linecolor\":\"white\",\"ticks\":\"\"},\"bgcolor\":\"#E5ECF6\",\"caxis\":{\"gridcolor\":\"white\",\"linecolor\":\"white\",\"ticks\":\"\"}},\"title\":{\"x\":0.05},\"xaxis\":{\"automargin\":true,\"gridcolor\":\"white\",\"linecolor\":\"white\",\"ticks\":\"\",\"title\":{\"standoff\":15},\"zerolinecolor\":\"white\",\"zerolinewidth\":2},\"yaxis\":{\"automargin\":true,\"gridcolor\":\"white\",\"linecolor\":\"white\",\"ticks\":\"\",\"title\":{\"standoff\":15},\"zerolinecolor\":\"white\",\"zerolinewidth\":2}}},\"title\":{\"font\":{\"color\":\"#4D5663\"},\"text\":\"SK\\ud558\\uc774\\ub2c9\\uc2a4\"},\"xaxis\":{\"anchor\":\"y2\",\"gridcolor\":\"#E1E5ED\",\"rangeselector\":{\"bgcolor\":\"rgba(150, 200, 250, 1)\",\"buttons\":[{\"count\":1,\"label\":\"1m\",\"step\":\"month\",\"stepmode\":\"backward\"},{\"count\":1,\"label\":\"1y\",\"step\":\"year\",\"stepmode\":\"backward\"}],\"font\":{\"size\":13},\"visible\":false,\"x\":0,\"y\":0.9},\"rangeslider\":{\"visible\":false},\"showgrid\":true,\"tickfont\":{\"color\":\"#4D5663\"},\"title\":{\"font\":{\"color\":\"#4D5663\"},\"text\":\"\"},\"zerolinecolor\":\"#E1E5ED\"},\"yaxis\":{\"gridcolor\":\"#E1E5ED\",\"showgrid\":true,\"showticklabels\":false,\"tickfont\":{\"color\":\"#4D5663\"},\"title\":{\"font\":{\"color\":\"#4D5663\"},\"text\":\"\"},\"zerolinecolor\":\"#E1E5ED\"},\"yaxis2\":{\"domain\":[0.0,0.9],\"gridcolor\":\"#E1E5ED\",\"showgrid\":true,\"tickfont\":{\"color\":\"#4D5663\"},\"title\":{\"font\":{\"color\":\"#4D5663\"},\"text\":\"\"},\"zerolinecolor\":\"#E1E5ED\"}},                        {\"showLink\": true, \"linkText\": \"Export to plot.ly\", \"plotlyServerURL\": \"https://plot.ly\", \"responsive\": true}                    ).then(function(){\n",
       "                            \n",
       "var gd = document.getElementById('02ae963a-910b-44e6-b9f8-6bf17c1b829a');\n",
       "var x = new MutationObserver(function (mutations, observer) {{\n",
       "        var display = window.getComputedStyle(gd).display;\n",
       "        if (!display || display === 'none') {{\n",
       "            console.log([gd, 'removed!']);\n",
       "            Plotly.purge(gd);\n",
       "            observer.disconnect();\n",
       "        }}\n",
       "}});\n",
       "\n",
       "// Listen for the removal of the full notebook cells\n",
       "var notebookContainer = gd.closest('#notebook-container');\n",
       "if (notebookContainer) {{\n",
       "    x.observe(notebookContainer, {childList: true});\n",
       "}}\n",
       "\n",
       "// Listen for the clearing of the current output cell\n",
       "var outputEl = gd.closest('.output');\n",
       "if (outputEl) {{\n",
       "    x.observe(outputEl, {childList: true});\n",
       "}}\n",
       "\n",
       "                        })                };                });            </script>        </div>"
      ]
     },
     "metadata": {},
     "output_type": "display_data"
    }
   ],
   "source": [
    "qf.add_sma(periods = 20) # 20일간의 단순이평선\n",
    "qf.add_bollinger_bands(periods = 20, boll_std = 2) # SMA20에 표준편차 2로 볼린저밴드 적용\n",
    "qf.iplot(title = company_name, name = company_name)"
   ]
  },
  {
   "cell_type": "markdown",
   "id": "32d245c0",
   "metadata": {},
   "source": [
    " "
   ]
  },
  {
   "cell_type": "markdown",
   "id": "41d2e638",
   "metadata": {},
   "source": [
    "## 머신러닝 이용하기"
   ]
  },
  {
   "cell_type": "markdown",
   "id": "0f14f8f6",
   "metadata": {},
   "source": [
    "**데이터 정규화하기**"
   ]
  },
  {
   "cell_type": "code",
   "execution_count": 14,
   "id": "0595066d",
   "metadata": {},
   "outputs": [],
   "source": [
    "scaler = RobustScaler()\n",
    "df_scale = pd.DataFrame(scaler.fit_transform(df), columns = df.columns)"
   ]
  },
  {
   "cell_type": "markdown",
   "id": "84214127",
   "metadata": {},
   "source": [
    "**모델 훈련하기**"
   ]
  },
  {
   "cell_type": "code",
   "execution_count": 15,
   "id": "bdbe0853",
   "metadata": {},
   "outputs": [
    {
     "data": {
      "text/plain": [
       "4"
      ]
     },
     "execution_count": 15,
     "metadata": {},
     "output_type": "execute_result"
    }
   ],
   "source": [
    "clusterer = hdbscan.HDBSCAN(min_cluster_size = 15) # 하나의 횡보장이 생기기 위한 최소한의 기간\n",
    "df[\"dbscan_cluster\"] = clusterer.fit_predict(np.array(df_scale['close']).reshape(-1, 1))\n",
    "len(df[\"dbscan_cluster\"].unique())"
   ]
  },
  {
   "cell_type": "markdown",
   "id": "1183bef9",
   "metadata": {},
   "source": [
    "**시각화하기** - 저항선과 지지선"
   ]
  },
  {
   "cell_type": "code",
   "execution_count": 16,
   "id": "e0c155b5",
   "metadata": {},
   "outputs": [
    {
     "data": {
      "image/png": "[encoded data removed]",
      "text/plain": [
       "<Figure size 864x576 with 1 Axes>"
      ]
     },
     "metadata": {
      "needs_background": "light"
     },
     "output_type": "display_data"
    }
   ],
   "source": [
    "df['close'].plot(figsize = (12, 8))\n",
    "plt.title(company_name + \" | Resistance line & Support line\", fontsize = 15)\n",
    "for n in df[\"dbscan_cluster\"].unique():\n",
    "    if n != -1:\n",
    "        plt.axhline(df[df['dbscan_cluster'] == n]['close'].max(), color='C3', linestyle = '--', linewidth = 2) # 저항선\n",
    "        plt.axhline(df[df['dbscan_cluster'] == n]['close'].min(), color='C9', linestyle = '--', linewidth = 2) # 지지선"
   ]
  },
  {
   "cell_type": "markdown",
   "id": "cb0fade2",
   "metadata": {},
   "source": [
    "**시각화하기** - 추세선"
   ]
  },
  {
   "cell_type": "code",
   "execution_count": 17,
   "id": "a1510fd6",
   "metadata": {},
   "outputs": [
    {
     "data": {
      "text/plain": [
       "[<matplotlib.lines.Line2D at 0x7fb07fdca790>]"
      ]
     },
     "execution_count": 17,
     "metadata": {},
     "output_type": "execute_result"
    },
    {
     "data": {
      "image/png": "[encoded data removed]",
      "text/plain": [
       "<Figure size 864x576 with 1 Axes>"
      ]
     },
     "metadata": {
      "needs_background": "light"
     },
     "output_type": "display_data"
    }
   ],
   "source": [
    "from scipy.signal import argrelextrema\n",
    "local_max = argrelextrema(df.high.values, np.greater_equal, order = 15) # 전, 후 15일을 기준으로 local max의 인덱스 파악\n",
    "local_min = argrelextrema(df.low.values, np.less_equal, order = 15) # 전, 후 15일을 기준으로 local min의 인덱스 파악\n",
    "\n",
    "x_lmax = df.index[local_max]\n",
    "y_lmax = df.close[x_lmax]\n",
    "x_lmin = df.index[local_min]\n",
    "y_lmin = df.close[x_lmin]\n",
    "\n",
    "df['close'].plot(figsize = (12, 8))\n",
    "plt.title(company_name + \" | Trend line\", fontsize = 15)\n",
    "plt.plot(x_lmax, y_lmax)\n",
    "plt.plot(x_lmin, y_lmin)"
   ]
  }
 ],
 "metadata": {
  "kernelspec": {
   "display_name": "Python 3 (ipykernel)",
   "language": "python",
   "name": "python3"
  },
  "language_info": {
   "codemirror_mode": {
    "name": "ipython",
    "version": 3
   },
   "file_extension": ".py",
   "mimetype": "text/x-python",
   "name": "python",
   "nbconvert_exporter": "python",
   "pygments_lexer": "ipython3",
   "version": "3.9.12"
  }
 },
 "nbformat": 4,
 "nbformat_minor": 5
}
